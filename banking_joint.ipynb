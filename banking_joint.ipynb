{
 "cells": [
  {
   "cell_type": "code",
   "execution_count": 121,
   "metadata": {},
   "outputs": [],
   "source": [
    "import numpy as np\n",
    "import pandas as pd\n",
    "import matplotlib.pyplot as plt\n",
    "import seaborn as sns\n",
    "from sklearn.preprocessing import LabelEncoder\n",
    "import os\n",
    "import sweetviz as sv\n",
    "import pickle\n",
    "from sklearn.model_selection import train_test_split, GridSearchCV\n",
    "from sklearn.preprocessing import MinMaxScaler, OrdinalEncoder, OneHotEncoder\n",
    "from sklearn.metrics import classification_report, roc_curve,roc_auc_score, f1_score, confusion_matrix, precision_recall_curve, accuracy_score\n",
    "from sklearn.naive_bayes import  GaussianNB\n",
    "from sklearn.linear_model import LogisticRegression\n",
    "from sklearn.ensemble import GradientBoostingClassifier, RandomForestClassifier\n",
    "from sklearn.tree import DecisionTreeClassifier\n",
    "from sklearn.neighbors import KNeighborsClassifier\n",
    "from sklearn.svm import SVC\n",
    "import xgboost as xgb\n",
    "from imblearn.over_sampling import SMOTE\n",
    "from sklearn.feature_selection import SelectKBest\n",
    "from sklearn.feature_selection import f_classif\n",
    "from sklearn import metrics\n",
    "import gzip\n",
    "from yellowbrick.model_selection import feature_importances, FeatureImportances"
   ]
  },
  {
   "cell_type": "code",
   "execution_count": 28,
   "metadata": {},
   "outputs": [
    {
     "data": {
      "text/html": [
       "<div>\n",
       "<style scoped>\n",
       "    .dataframe tbody tr th:only-of-type {\n",
       "        vertical-align: middle;\n",
       "    }\n",
       "\n",
       "    .dataframe tbody tr th {\n",
       "        vertical-align: top;\n",
       "    }\n",
       "\n",
       "    .dataframe thead th {\n",
       "        text-align: right;\n",
       "    }\n",
       "</style>\n",
       "<table border=\"1\" class=\"dataframe\">\n",
       "  <thead>\n",
       "    <tr style=\"text-align: right;\">\n",
       "      <th></th>\n",
       "      <th>ID</th>\n",
       "      <th>Customer_ID</th>\n",
       "      <th>Month</th>\n",
       "      <th>Name</th>\n",
       "      <th>Age</th>\n",
       "      <th>SSN</th>\n",
       "      <th>Occupation</th>\n",
       "      <th>Annual_Income</th>\n",
       "      <th>Monthly_Inhand_Salary</th>\n",
       "      <th>Num_Bank_Accounts</th>\n",
       "      <th>...</th>\n",
       "      <th>Credit_Mix</th>\n",
       "      <th>Outstanding_Debt</th>\n",
       "      <th>Credit_Utilization_Ratio</th>\n",
       "      <th>Credit_History_Age</th>\n",
       "      <th>Payment_of_Min_Amount</th>\n",
       "      <th>Total_EMI_per_month</th>\n",
       "      <th>Amount_invested_monthly</th>\n",
       "      <th>Payment_Behaviour</th>\n",
       "      <th>Monthly_Balance</th>\n",
       "      <th>Credit_Score</th>\n",
       "    </tr>\n",
       "  </thead>\n",
       "  <tbody>\n",
       "    <tr>\n",
       "      <th>0</th>\n",
       "      <td>5634</td>\n",
       "      <td>3392</td>\n",
       "      <td>1</td>\n",
       "      <td>Aaron Maashoh</td>\n",
       "      <td>23</td>\n",
       "      <td>821000265</td>\n",
       "      <td>Scientist</td>\n",
       "      <td>19114.12</td>\n",
       "      <td>1824.843333</td>\n",
       "      <td>3</td>\n",
       "      <td>...</td>\n",
       "      <td>Good</td>\n",
       "      <td>809.98</td>\n",
       "      <td>26.822620</td>\n",
       "      <td>265</td>\n",
       "      <td>No</td>\n",
       "      <td>49.574949</td>\n",
       "      <td>21.465380</td>\n",
       "      <td>High_spent_Small_value_payments</td>\n",
       "      <td>312.494089</td>\n",
       "      <td>Good</td>\n",
       "    </tr>\n",
       "    <tr>\n",
       "      <th>1</th>\n",
       "      <td>5635</td>\n",
       "      <td>3392</td>\n",
       "      <td>2</td>\n",
       "      <td>Aaron Maashoh</td>\n",
       "      <td>23</td>\n",
       "      <td>821000265</td>\n",
       "      <td>Scientist</td>\n",
       "      <td>19114.12</td>\n",
       "      <td>1824.843333</td>\n",
       "      <td>3</td>\n",
       "      <td>...</td>\n",
       "      <td>Good</td>\n",
       "      <td>809.98</td>\n",
       "      <td>31.944960</td>\n",
       "      <td>266</td>\n",
       "      <td>No</td>\n",
       "      <td>49.574949</td>\n",
       "      <td>21.465380</td>\n",
       "      <td>Low_spent_Large_value_payments</td>\n",
       "      <td>284.629163</td>\n",
       "      <td>Good</td>\n",
       "    </tr>\n",
       "    <tr>\n",
       "      <th>2</th>\n",
       "      <td>5636</td>\n",
       "      <td>3392</td>\n",
       "      <td>3</td>\n",
       "      <td>Aaron Maashoh</td>\n",
       "      <td>23</td>\n",
       "      <td>821000265</td>\n",
       "      <td>Scientist</td>\n",
       "      <td>19114.12</td>\n",
       "      <td>1824.843333</td>\n",
       "      <td>3</td>\n",
       "      <td>...</td>\n",
       "      <td>Good</td>\n",
       "      <td>809.98</td>\n",
       "      <td>28.609352</td>\n",
       "      <td>267</td>\n",
       "      <td>No</td>\n",
       "      <td>49.574949</td>\n",
       "      <td>21.465380</td>\n",
       "      <td>Low_spent_Medium_value_payments</td>\n",
       "      <td>331.209863</td>\n",
       "      <td>Good</td>\n",
       "    </tr>\n",
       "    <tr>\n",
       "      <th>3</th>\n",
       "      <td>5637</td>\n",
       "      <td>3392</td>\n",
       "      <td>4</td>\n",
       "      <td>Aaron Maashoh</td>\n",
       "      <td>23</td>\n",
       "      <td>821000265</td>\n",
       "      <td>Scientist</td>\n",
       "      <td>19114.12</td>\n",
       "      <td>1824.843333</td>\n",
       "      <td>3</td>\n",
       "      <td>...</td>\n",
       "      <td>Good</td>\n",
       "      <td>809.98</td>\n",
       "      <td>31.377862</td>\n",
       "      <td>268</td>\n",
       "      <td>No</td>\n",
       "      <td>49.574949</td>\n",
       "      <td>21.465380</td>\n",
       "      <td>Low_spent_Small_value_payments</td>\n",
       "      <td>223.451310</td>\n",
       "      <td>Good</td>\n",
       "    </tr>\n",
       "    <tr>\n",
       "      <th>4</th>\n",
       "      <td>5638</td>\n",
       "      <td>3392</td>\n",
       "      <td>5</td>\n",
       "      <td>Aaron Maashoh</td>\n",
       "      <td>23</td>\n",
       "      <td>821000265</td>\n",
       "      <td>Scientist</td>\n",
       "      <td>19114.12</td>\n",
       "      <td>1824.843333</td>\n",
       "      <td>3</td>\n",
       "      <td>...</td>\n",
       "      <td>Good</td>\n",
       "      <td>809.98</td>\n",
       "      <td>24.797347</td>\n",
       "      <td>269</td>\n",
       "      <td>No</td>\n",
       "      <td>49.574949</td>\n",
       "      <td>21.465380</td>\n",
       "      <td>High_spent_Medium_value_payments</td>\n",
       "      <td>341.489231</td>\n",
       "      <td>Good</td>\n",
       "    </tr>\n",
       "    <tr>\n",
       "      <th>...</th>\n",
       "      <td>...</td>\n",
       "      <td>...</td>\n",
       "      <td>...</td>\n",
       "      <td>...</td>\n",
       "      <td>...</td>\n",
       "      <td>...</td>\n",
       "      <td>...</td>\n",
       "      <td>...</td>\n",
       "      <td>...</td>\n",
       "      <td>...</td>\n",
       "      <td>...</td>\n",
       "      <td>...</td>\n",
       "      <td>...</td>\n",
       "      <td>...</td>\n",
       "      <td>...</td>\n",
       "      <td>...</td>\n",
       "      <td>...</td>\n",
       "      <td>...</td>\n",
       "      <td>...</td>\n",
       "      <td>...</td>\n",
       "      <td>...</td>\n",
       "    </tr>\n",
       "    <tr>\n",
       "      <th>99995</th>\n",
       "      <td>155625</td>\n",
       "      <td>37932</td>\n",
       "      <td>4</td>\n",
       "      <td>Nicks</td>\n",
       "      <td>25</td>\n",
       "      <td>78735990</td>\n",
       "      <td>Mechanic</td>\n",
       "      <td>39628.99</td>\n",
       "      <td>3359.415833</td>\n",
       "      <td>4</td>\n",
       "      <td>...</td>\n",
       "      <td>Good</td>\n",
       "      <td>502.38</td>\n",
       "      <td>34.663572</td>\n",
       "      <td>378</td>\n",
       "      <td>No</td>\n",
       "      <td>35.104023</td>\n",
       "      <td>24.028477</td>\n",
       "      <td>High_spent_Large_value_payments</td>\n",
       "      <td>479.866228</td>\n",
       "      <td>Poor</td>\n",
       "    </tr>\n",
       "    <tr>\n",
       "      <th>99996</th>\n",
       "      <td>155626</td>\n",
       "      <td>37932</td>\n",
       "      <td>5</td>\n",
       "      <td>Nicks</td>\n",
       "      <td>25</td>\n",
       "      <td>78735990</td>\n",
       "      <td>Mechanic</td>\n",
       "      <td>39628.99</td>\n",
       "      <td>3359.415833</td>\n",
       "      <td>4</td>\n",
       "      <td>...</td>\n",
       "      <td>Good</td>\n",
       "      <td>502.38</td>\n",
       "      <td>40.565631</td>\n",
       "      <td>379</td>\n",
       "      <td>No</td>\n",
       "      <td>35.104023</td>\n",
       "      <td>24.028477</td>\n",
       "      <td>High_spent_Medium_value_payments</td>\n",
       "      <td>496.651610</td>\n",
       "      <td>Poor</td>\n",
       "    </tr>\n",
       "    <tr>\n",
       "      <th>99997</th>\n",
       "      <td>155627</td>\n",
       "      <td>37932</td>\n",
       "      <td>6</td>\n",
       "      <td>Nicks</td>\n",
       "      <td>25</td>\n",
       "      <td>78735990</td>\n",
       "      <td>Mechanic</td>\n",
       "      <td>39628.99</td>\n",
       "      <td>3359.415833</td>\n",
       "      <td>4</td>\n",
       "      <td>...</td>\n",
       "      <td>Good</td>\n",
       "      <td>502.38</td>\n",
       "      <td>41.255522</td>\n",
       "      <td>380</td>\n",
       "      <td>No</td>\n",
       "      <td>35.104023</td>\n",
       "      <td>24.028477</td>\n",
       "      <td>High_spent_Large_value_payments</td>\n",
       "      <td>516.809083</td>\n",
       "      <td>Poor</td>\n",
       "    </tr>\n",
       "    <tr>\n",
       "      <th>99998</th>\n",
       "      <td>155628</td>\n",
       "      <td>37932</td>\n",
       "      <td>7</td>\n",
       "      <td>Nicks</td>\n",
       "      <td>25</td>\n",
       "      <td>78735990</td>\n",
       "      <td>Mechanic</td>\n",
       "      <td>39628.99</td>\n",
       "      <td>3359.415833</td>\n",
       "      <td>4</td>\n",
       "      <td>...</td>\n",
       "      <td>Good</td>\n",
       "      <td>502.38</td>\n",
       "      <td>33.638208</td>\n",
       "      <td>381</td>\n",
       "      <td>No</td>\n",
       "      <td>35.104023</td>\n",
       "      <td>24.028477</td>\n",
       "      <td>Low_spent_Large_value_payments</td>\n",
       "      <td>319.164979</td>\n",
       "      <td>Standard</td>\n",
       "    </tr>\n",
       "    <tr>\n",
       "      <th>99999</th>\n",
       "      <td>155629</td>\n",
       "      <td>37932</td>\n",
       "      <td>8</td>\n",
       "      <td>Nicks</td>\n",
       "      <td>25</td>\n",
       "      <td>78735990</td>\n",
       "      <td>Mechanic</td>\n",
       "      <td>39628.99</td>\n",
       "      <td>3359.415833</td>\n",
       "      <td>4</td>\n",
       "      <td>...</td>\n",
       "      <td>Good</td>\n",
       "      <td>502.38</td>\n",
       "      <td>34.192463</td>\n",
       "      <td>382</td>\n",
       "      <td>No</td>\n",
       "      <td>35.104023</td>\n",
       "      <td>24.028477</td>\n",
       "      <td>High_spent_Medium_value_payments</td>\n",
       "      <td>393.673696</td>\n",
       "      <td>Poor</td>\n",
       "    </tr>\n",
       "  </tbody>\n",
       "</table>\n",
       "<p>100000 rows × 28 columns</p>\n",
       "</div>"
      ],
      "text/plain": [
       "           ID  Customer_ID  Month           Name  Age        SSN Occupation  \\\n",
       "0        5634         3392      1  Aaron Maashoh   23  821000265  Scientist   \n",
       "1        5635         3392      2  Aaron Maashoh   23  821000265  Scientist   \n",
       "2        5636         3392      3  Aaron Maashoh   23  821000265  Scientist   \n",
       "3        5637         3392      4  Aaron Maashoh   23  821000265  Scientist   \n",
       "4        5638         3392      5  Aaron Maashoh   23  821000265  Scientist   \n",
       "...       ...          ...    ...            ...  ...        ...        ...   \n",
       "99995  155625        37932      4          Nicks   25   78735990   Mechanic   \n",
       "99996  155626        37932      5          Nicks   25   78735990   Mechanic   \n",
       "99997  155627        37932      6          Nicks   25   78735990   Mechanic   \n",
       "99998  155628        37932      7          Nicks   25   78735990   Mechanic   \n",
       "99999  155629        37932      8          Nicks   25   78735990   Mechanic   \n",
       "\n",
       "       Annual_Income  Monthly_Inhand_Salary  Num_Bank_Accounts  ...  \\\n",
       "0           19114.12            1824.843333                  3  ...   \n",
       "1           19114.12            1824.843333                  3  ...   \n",
       "2           19114.12            1824.843333                  3  ...   \n",
       "3           19114.12            1824.843333                  3  ...   \n",
       "4           19114.12            1824.843333                  3  ...   \n",
       "...              ...                    ...                ...  ...   \n",
       "99995       39628.99            3359.415833                  4  ...   \n",
       "99996       39628.99            3359.415833                  4  ...   \n",
       "99997       39628.99            3359.415833                  4  ...   \n",
       "99998       39628.99            3359.415833                  4  ...   \n",
       "99999       39628.99            3359.415833                  4  ...   \n",
       "\n",
       "       Credit_Mix  Outstanding_Debt  Credit_Utilization_Ratio  \\\n",
       "0            Good            809.98                 26.822620   \n",
       "1            Good            809.98                 31.944960   \n",
       "2            Good            809.98                 28.609352   \n",
       "3            Good            809.98                 31.377862   \n",
       "4            Good            809.98                 24.797347   \n",
       "...           ...               ...                       ...   \n",
       "99995        Good            502.38                 34.663572   \n",
       "99996        Good            502.38                 40.565631   \n",
       "99997        Good            502.38                 41.255522   \n",
       "99998        Good            502.38                 33.638208   \n",
       "99999        Good            502.38                 34.192463   \n",
       "\n",
       "      Credit_History_Age  Payment_of_Min_Amount  Total_EMI_per_month  \\\n",
       "0                    265                     No            49.574949   \n",
       "1                    266                     No            49.574949   \n",
       "2                    267                     No            49.574949   \n",
       "3                    268                     No            49.574949   \n",
       "4                    269                     No            49.574949   \n",
       "...                  ...                    ...                  ...   \n",
       "99995                378                     No            35.104023   \n",
       "99996                379                     No            35.104023   \n",
       "99997                380                     No            35.104023   \n",
       "99998                381                     No            35.104023   \n",
       "99999                382                     No            35.104023   \n",
       "\n",
       "       Amount_invested_monthly                 Payment_Behaviour  \\\n",
       "0                    21.465380   High_spent_Small_value_payments   \n",
       "1                    21.465380    Low_spent_Large_value_payments   \n",
       "2                    21.465380   Low_spent_Medium_value_payments   \n",
       "3                    21.465380    Low_spent_Small_value_payments   \n",
       "4                    21.465380  High_spent_Medium_value_payments   \n",
       "...                        ...                               ...   \n",
       "99995                24.028477   High_spent_Large_value_payments   \n",
       "99996                24.028477  High_spent_Medium_value_payments   \n",
       "99997                24.028477   High_spent_Large_value_payments   \n",
       "99998                24.028477    Low_spent_Large_value_payments   \n",
       "99999                24.028477  High_spent_Medium_value_payments   \n",
       "\n",
       "      Monthly_Balance  Credit_Score  \n",
       "0          312.494089          Good  \n",
       "1          284.629163          Good  \n",
       "2          331.209863          Good  \n",
       "3          223.451310          Good  \n",
       "4          341.489231          Good  \n",
       "...               ...           ...  \n",
       "99995      479.866228          Poor  \n",
       "99996      496.651610          Poor  \n",
       "99997      516.809083          Poor  \n",
       "99998      319.164979      Standard  \n",
       "99999      393.673696          Poor  \n",
       "\n",
       "[100000 rows x 28 columns]"
      ]
     },
     "execution_count": 28,
     "metadata": {},
     "output_type": "execute_result"
    }
   ],
   "source": [
    "df = pd.read_csv(r\"F:\\ML Projects\\Banking\\train.csv\")\n",
    "df"
   ]
  },
  {
   "cell_type": "code",
   "execution_count": 29,
   "metadata": {},
   "outputs": [
    {
     "data": {
      "text/plain": [
       "(100000, 28)"
      ]
     },
     "execution_count": 29,
     "metadata": {},
     "output_type": "execute_result"
    }
   ],
   "source": [
    "df.shape"
   ]
  },
  {
   "cell_type": "code",
   "execution_count": 30,
   "metadata": {},
   "outputs": [
    {
     "data": {
      "text/html": [
       "<div>\n",
       "<style scoped>\n",
       "    .dataframe tbody tr th:only-of-type {\n",
       "        vertical-align: middle;\n",
       "    }\n",
       "\n",
       "    .dataframe tbody tr th {\n",
       "        vertical-align: top;\n",
       "    }\n",
       "\n",
       "    .dataframe thead th {\n",
       "        text-align: right;\n",
       "    }\n",
       "</style>\n",
       "<table border=\"1\" class=\"dataframe\">\n",
       "  <thead>\n",
       "    <tr style=\"text-align: right;\">\n",
       "      <th></th>\n",
       "      <th>ID</th>\n",
       "      <th>Customer_ID</th>\n",
       "      <th>Month</th>\n",
       "      <th>Age</th>\n",
       "      <th>SSN</th>\n",
       "      <th>Annual_Income</th>\n",
       "      <th>Monthly_Inhand_Salary</th>\n",
       "      <th>Num_Bank_Accounts</th>\n",
       "      <th>Num_Credit_Card</th>\n",
       "      <th>Interest_Rate</th>\n",
       "      <th>...</th>\n",
       "      <th>Delay_from_due_date</th>\n",
       "      <th>Num_of_Delayed_Payment</th>\n",
       "      <th>Changed_Credit_Limit</th>\n",
       "      <th>Num_Credit_Inquiries</th>\n",
       "      <th>Outstanding_Debt</th>\n",
       "      <th>Credit_Utilization_Ratio</th>\n",
       "      <th>Credit_History_Age</th>\n",
       "      <th>Total_EMI_per_month</th>\n",
       "      <th>Amount_invested_monthly</th>\n",
       "      <th>Monthly_Balance</th>\n",
       "    </tr>\n",
       "  </thead>\n",
       "  <tbody>\n",
       "    <tr>\n",
       "      <th>count</th>\n",
       "      <td>100000.000000</td>\n",
       "      <td>100000.000000</td>\n",
       "      <td>100000.000000</td>\n",
       "      <td>100000.000000</td>\n",
       "      <td>1.000000e+05</td>\n",
       "      <td>100000.000000</td>\n",
       "      <td>100000.000000</td>\n",
       "      <td>100000.000000</td>\n",
       "      <td>100000.000000</td>\n",
       "      <td>100000.00000</td>\n",
       "      <td>...</td>\n",
       "      <td>100000.00000</td>\n",
       "      <td>100000.000000</td>\n",
       "      <td>100000.000000</td>\n",
       "      <td>100000.000000</td>\n",
       "      <td>100000.000000</td>\n",
       "      <td>100000.000000</td>\n",
       "      <td>100000.000000</td>\n",
       "      <td>100000.000000</td>\n",
       "      <td>100000.000000</td>\n",
       "      <td>100000.000000</td>\n",
       "    </tr>\n",
       "    <tr>\n",
       "      <th>mean</th>\n",
       "      <td>80631.500000</td>\n",
       "      <td>25982.666640</td>\n",
       "      <td>4.500000</td>\n",
       "      <td>33.316340</td>\n",
       "      <td>5.004617e+08</td>\n",
       "      <td>50505.123449</td>\n",
       "      <td>4197.270835</td>\n",
       "      <td>5.368820</td>\n",
       "      <td>5.533570</td>\n",
       "      <td>14.53208</td>\n",
       "      <td>...</td>\n",
       "      <td>21.08141</td>\n",
       "      <td>13.313120</td>\n",
       "      <td>10.470323</td>\n",
       "      <td>5.798250</td>\n",
       "      <td>1426.220376</td>\n",
       "      <td>32.285173</td>\n",
       "      <td>221.220460</td>\n",
       "      <td>107.699208</td>\n",
       "      <td>55.101315</td>\n",
       "      <td>392.697586</td>\n",
       "    </tr>\n",
       "    <tr>\n",
       "      <th>std</th>\n",
       "      <td>43301.486619</td>\n",
       "      <td>14340.543051</td>\n",
       "      <td>2.291299</td>\n",
       "      <td>10.764812</td>\n",
       "      <td>2.908267e+08</td>\n",
       "      <td>38299.422093</td>\n",
       "      <td>3186.432497</td>\n",
       "      <td>2.593314</td>\n",
       "      <td>2.067098</td>\n",
       "      <td>8.74133</td>\n",
       "      <td>...</td>\n",
       "      <td>14.80456</td>\n",
       "      <td>6.237166</td>\n",
       "      <td>6.609481</td>\n",
       "      <td>3.867826</td>\n",
       "      <td>1155.129026</td>\n",
       "      <td>5.116875</td>\n",
       "      <td>99.680716</td>\n",
       "      <td>132.267056</td>\n",
       "      <td>39.006932</td>\n",
       "      <td>201.652719</td>\n",
       "    </tr>\n",
       "    <tr>\n",
       "      <th>min</th>\n",
       "      <td>5634.000000</td>\n",
       "      <td>1006.000000</td>\n",
       "      <td>1.000000</td>\n",
       "      <td>14.000000</td>\n",
       "      <td>8.134900e+04</td>\n",
       "      <td>7005.930000</td>\n",
       "      <td>303.645417</td>\n",
       "      <td>0.000000</td>\n",
       "      <td>0.000000</td>\n",
       "      <td>1.00000</td>\n",
       "      <td>...</td>\n",
       "      <td>0.00000</td>\n",
       "      <td>0.000000</td>\n",
       "      <td>0.500000</td>\n",
       "      <td>0.000000</td>\n",
       "      <td>0.230000</td>\n",
       "      <td>20.000000</td>\n",
       "      <td>1.000000</td>\n",
       "      <td>0.000000</td>\n",
       "      <td>0.000000</td>\n",
       "      <td>0.007760</td>\n",
       "    </tr>\n",
       "    <tr>\n",
       "      <th>25%</th>\n",
       "      <td>43132.750000</td>\n",
       "      <td>13664.500000</td>\n",
       "      <td>2.750000</td>\n",
       "      <td>24.000000</td>\n",
       "      <td>2.451686e+08</td>\n",
       "      <td>19342.972500</td>\n",
       "      <td>1626.594167</td>\n",
       "      <td>3.000000</td>\n",
       "      <td>4.000000</td>\n",
       "      <td>7.00000</td>\n",
       "      <td>...</td>\n",
       "      <td>10.00000</td>\n",
       "      <td>9.000000</td>\n",
       "      <td>5.380000</td>\n",
       "      <td>3.000000</td>\n",
       "      <td>566.072500</td>\n",
       "      <td>28.052567</td>\n",
       "      <td>144.000000</td>\n",
       "      <td>29.268886</td>\n",
       "      <td>27.959111</td>\n",
       "      <td>267.615983</td>\n",
       "    </tr>\n",
       "    <tr>\n",
       "      <th>50%</th>\n",
       "      <td>80631.500000</td>\n",
       "      <td>25777.000000</td>\n",
       "      <td>4.500000</td>\n",
       "      <td>33.000000</td>\n",
       "      <td>5.006886e+08</td>\n",
       "      <td>36999.705000</td>\n",
       "      <td>3095.905000</td>\n",
       "      <td>5.000000</td>\n",
       "      <td>5.000000</td>\n",
       "      <td>13.00000</td>\n",
       "      <td>...</td>\n",
       "      <td>18.00000</td>\n",
       "      <td>14.000000</td>\n",
       "      <td>9.400000</td>\n",
       "      <td>5.000000</td>\n",
       "      <td>1166.155000</td>\n",
       "      <td>32.305784</td>\n",
       "      <td>219.000000</td>\n",
       "      <td>66.462304</td>\n",
       "      <td>45.156550</td>\n",
       "      <td>333.865366</td>\n",
       "    </tr>\n",
       "    <tr>\n",
       "      <th>75%</th>\n",
       "      <td>118130.250000</td>\n",
       "      <td>38385.000000</td>\n",
       "      <td>6.250000</td>\n",
       "      <td>42.000000</td>\n",
       "      <td>7.560027e+08</td>\n",
       "      <td>71683.470000</td>\n",
       "      <td>5957.715000</td>\n",
       "      <td>7.000000</td>\n",
       "      <td>7.000000</td>\n",
       "      <td>20.00000</td>\n",
       "      <td>...</td>\n",
       "      <td>28.00000</td>\n",
       "      <td>18.000000</td>\n",
       "      <td>14.850000</td>\n",
       "      <td>8.000000</td>\n",
       "      <td>1945.962500</td>\n",
       "      <td>36.496663</td>\n",
       "      <td>302.000000</td>\n",
       "      <td>147.392573</td>\n",
       "      <td>71.295797</td>\n",
       "      <td>463.215683</td>\n",
       "    </tr>\n",
       "    <tr>\n",
       "      <th>max</th>\n",
       "      <td>155629.000000</td>\n",
       "      <td>50999.000000</td>\n",
       "      <td>8.000000</td>\n",
       "      <td>56.000000</td>\n",
       "      <td>9.999934e+08</td>\n",
       "      <td>179987.280000</td>\n",
       "      <td>15204.633330</td>\n",
       "      <td>11.000000</td>\n",
       "      <td>11.000000</td>\n",
       "      <td>34.00000</td>\n",
       "      <td>...</td>\n",
       "      <td>62.00000</td>\n",
       "      <td>25.000000</td>\n",
       "      <td>29.980000</td>\n",
       "      <td>17.000000</td>\n",
       "      <td>4998.070000</td>\n",
       "      <td>50.000000</td>\n",
       "      <td>404.000000</td>\n",
       "      <td>1779.103254</td>\n",
       "      <td>434.191089</td>\n",
       "      <td>1183.930696</td>\n",
       "    </tr>\n",
       "  </tbody>\n",
       "</table>\n",
       "<p>8 rows × 21 columns</p>\n",
       "</div>"
      ],
      "text/plain": [
       "                  ID    Customer_ID          Month            Age  \\\n",
       "count  100000.000000  100000.000000  100000.000000  100000.000000   \n",
       "mean    80631.500000   25982.666640       4.500000      33.316340   \n",
       "std     43301.486619   14340.543051       2.291299      10.764812   \n",
       "min      5634.000000    1006.000000       1.000000      14.000000   \n",
       "25%     43132.750000   13664.500000       2.750000      24.000000   \n",
       "50%     80631.500000   25777.000000       4.500000      33.000000   \n",
       "75%    118130.250000   38385.000000       6.250000      42.000000   \n",
       "max    155629.000000   50999.000000       8.000000      56.000000   \n",
       "\n",
       "                SSN  Annual_Income  Monthly_Inhand_Salary  Num_Bank_Accounts  \\\n",
       "count  1.000000e+05  100000.000000          100000.000000      100000.000000   \n",
       "mean   5.004617e+08   50505.123449            4197.270835           5.368820   \n",
       "std    2.908267e+08   38299.422093            3186.432497           2.593314   \n",
       "min    8.134900e+04    7005.930000             303.645417           0.000000   \n",
       "25%    2.451686e+08   19342.972500            1626.594167           3.000000   \n",
       "50%    5.006886e+08   36999.705000            3095.905000           5.000000   \n",
       "75%    7.560027e+08   71683.470000            5957.715000           7.000000   \n",
       "max    9.999934e+08  179987.280000           15204.633330          11.000000   \n",
       "\n",
       "       Num_Credit_Card  Interest_Rate  ...  Delay_from_due_date  \\\n",
       "count    100000.000000   100000.00000  ...         100000.00000   \n",
       "mean          5.533570       14.53208  ...             21.08141   \n",
       "std           2.067098        8.74133  ...             14.80456   \n",
       "min           0.000000        1.00000  ...              0.00000   \n",
       "25%           4.000000        7.00000  ...             10.00000   \n",
       "50%           5.000000       13.00000  ...             18.00000   \n",
       "75%           7.000000       20.00000  ...             28.00000   \n",
       "max          11.000000       34.00000  ...             62.00000   \n",
       "\n",
       "       Num_of_Delayed_Payment  Changed_Credit_Limit  Num_Credit_Inquiries  \\\n",
       "count           100000.000000         100000.000000         100000.000000   \n",
       "mean                13.313120             10.470323              5.798250   \n",
       "std                  6.237166              6.609481              3.867826   \n",
       "min                  0.000000              0.500000              0.000000   \n",
       "25%                  9.000000              5.380000              3.000000   \n",
       "50%                 14.000000              9.400000              5.000000   \n",
       "75%                 18.000000             14.850000              8.000000   \n",
       "max                 25.000000             29.980000             17.000000   \n",
       "\n",
       "       Outstanding_Debt  Credit_Utilization_Ratio  Credit_History_Age  \\\n",
       "count     100000.000000             100000.000000       100000.000000   \n",
       "mean        1426.220376                 32.285173          221.220460   \n",
       "std         1155.129026                  5.116875           99.680716   \n",
       "min            0.230000                 20.000000            1.000000   \n",
       "25%          566.072500                 28.052567          144.000000   \n",
       "50%         1166.155000                 32.305784          219.000000   \n",
       "75%         1945.962500                 36.496663          302.000000   \n",
       "max         4998.070000                 50.000000          404.000000   \n",
       "\n",
       "       Total_EMI_per_month  Amount_invested_monthly  Monthly_Balance  \n",
       "count        100000.000000            100000.000000    100000.000000  \n",
       "mean            107.699208                55.101315       392.697586  \n",
       "std             132.267056                39.006932       201.652719  \n",
       "min               0.000000                 0.000000         0.007760  \n",
       "25%              29.268886                27.959111       267.615983  \n",
       "50%              66.462304                45.156550       333.865366  \n",
       "75%             147.392573                71.295797       463.215683  \n",
       "max            1779.103254               434.191089      1183.930696  \n",
       "\n",
       "[8 rows x 21 columns]"
      ]
     },
     "execution_count": 30,
     "metadata": {},
     "output_type": "execute_result"
    }
   ],
   "source": [
    "df.describe()"
   ]
  },
  {
   "cell_type": "code",
   "execution_count": 31,
   "metadata": {},
   "outputs": [
    {
     "name": "stdout",
     "output_type": "stream",
     "text": [
      "<class 'pandas.core.frame.DataFrame'>\n",
      "RangeIndex: 100000 entries, 0 to 99999\n",
      "Data columns (total 28 columns):\n",
      " #   Column                    Non-Null Count   Dtype  \n",
      "---  ------                    --------------   -----  \n",
      " 0   ID                        100000 non-null  int64  \n",
      " 1   Customer_ID               100000 non-null  int64  \n",
      " 2   Month                     100000 non-null  int64  \n",
      " 3   Name                      100000 non-null  object \n",
      " 4   Age                       100000 non-null  int64  \n",
      " 5   SSN                       100000 non-null  int64  \n",
      " 6   Occupation                100000 non-null  object \n",
      " 7   Annual_Income             100000 non-null  float64\n",
      " 8   Monthly_Inhand_Salary     100000 non-null  float64\n",
      " 9   Num_Bank_Accounts         100000 non-null  int64  \n",
      " 10  Num_Credit_Card           100000 non-null  int64  \n",
      " 11  Interest_Rate             100000 non-null  int64  \n",
      " 12  Num_of_Loan               100000 non-null  int64  \n",
      " 13  Type_of_Loan              100000 non-null  object \n",
      " 14  Delay_from_due_date       100000 non-null  int64  \n",
      " 15  Num_of_Delayed_Payment    100000 non-null  int64  \n",
      " 16  Changed_Credit_Limit      100000 non-null  float64\n",
      " 17  Num_Credit_Inquiries      100000 non-null  int64  \n",
      " 18  Credit_Mix                100000 non-null  object \n",
      " 19  Outstanding_Debt          100000 non-null  float64\n",
      " 20  Credit_Utilization_Ratio  100000 non-null  float64\n",
      " 21  Credit_History_Age        100000 non-null  int64  \n",
      " 22  Payment_of_Min_Amount     100000 non-null  object \n",
      " 23  Total_EMI_per_month       100000 non-null  float64\n",
      " 24  Amount_invested_monthly   100000 non-null  float64\n",
      " 25  Payment_Behaviour         100000 non-null  object \n",
      " 26  Monthly_Balance           100000 non-null  float64\n",
      " 27  Credit_Score              100000 non-null  object \n",
      "dtypes: float64(8), int64(13), object(7)\n",
      "memory usage: 21.4+ MB\n"
     ]
    }
   ],
   "source": [
    "df.info()"
   ]
  },
  {
   "cell_type": "code",
   "execution_count": 32,
   "metadata": {},
   "outputs": [
    {
     "data": {
      "text/plain": [
       "ID                          0\n",
       "Customer_ID                 0\n",
       "Month                       0\n",
       "Name                        0\n",
       "Age                         0\n",
       "SSN                         0\n",
       "Occupation                  0\n",
       "Annual_Income               0\n",
       "Monthly_Inhand_Salary       0\n",
       "Num_Bank_Accounts           0\n",
       "Num_Credit_Card             0\n",
       "Interest_Rate               0\n",
       "Num_of_Loan                 0\n",
       "Type_of_Loan                0\n",
       "Delay_from_due_date         0\n",
       "Num_of_Delayed_Payment      0\n",
       "Changed_Credit_Limit        0\n",
       "Num_Credit_Inquiries        0\n",
       "Credit_Mix                  0\n",
       "Outstanding_Debt            0\n",
       "Credit_Utilization_Ratio    0\n",
       "Credit_History_Age          0\n",
       "Payment_of_Min_Amount       0\n",
       "Total_EMI_per_month         0\n",
       "Amount_invested_monthly     0\n",
       "Payment_Behaviour           0\n",
       "Monthly_Balance             0\n",
       "Credit_Score                0\n",
       "dtype: int64"
      ]
     },
     "execution_count": 32,
     "metadata": {},
     "output_type": "execute_result"
    }
   ],
   "source": [
    "df.isnull().sum()"
   ]
  },
  {
   "cell_type": "code",
   "execution_count": 33,
   "metadata": {},
   "outputs": [
    {
     "data": {
      "text/plain": [
       "6     13175\n",
       "7     12999\n",
       "8     12940\n",
       "4     12343\n",
       "5     12298\n",
       "3     12107\n",
       "9      5503\n",
       "10     5329\n",
       "1      4540\n",
       "0      4417\n",
       "2      4340\n",
       "11        9\n",
       "Name: Num_Bank_Accounts, dtype: int64"
      ]
     },
     "execution_count": 33,
     "metadata": {},
     "output_type": "execute_result"
    }
   ],
   "source": [
    "df['Num_Bank_Accounts'].value_counts()"
   ]
  },
  {
   "cell_type": "code",
   "execution_count": 34,
   "metadata": {},
   "outputs": [
    {
     "data": {
      "text/plain": [
       "3    15752\n",
       "2    15712\n",
       "4    15456\n",
       "0    11408\n",
       "1    11128\n",
       "6     8144\n",
       "7     7680\n",
       "5     7528\n",
       "9     3856\n",
       "8     3336\n",
       "Name: Num_of_Loan, dtype: int64"
      ]
     },
     "execution_count": 34,
     "metadata": {},
     "output_type": "execute_result"
    }
   ],
   "source": [
    "df['Num_of_Loan'].value_counts()"
   ]
  },
  {
   "cell_type": "code",
   "execution_count": 35,
   "metadata": {},
   "outputs": [
    {
     "data": {
      "text/plain": [
       "Lawyer           7096\n",
       "Engineer         6864\n",
       "Architect        6824\n",
       "Mechanic         6776\n",
       "Scientist        6744\n",
       "Accountant       6744\n",
       "Developer        6720\n",
       "Media_Manager    6720\n",
       "Teacher          6672\n",
       "Entrepreneur     6648\n",
       "Doctor           6568\n",
       "Journalist       6536\n",
       "Manager          6432\n",
       "Musician         6352\n",
       "Writer           6304\n",
       "Name: Occupation, dtype: int64"
      ]
     },
     "execution_count": 35,
     "metadata": {},
     "output_type": "execute_result"
    }
   ],
   "source": [
    "df['Occupation'].value_counts()"
   ]
  },
  {
   "cell_type": "code",
   "execution_count": 36,
   "metadata": {},
   "outputs": [
    {
     "data": {
      "text/plain": [
       "Standard    53174\n",
       "Poor        28998\n",
       "Good        17828\n",
       "Name: Credit_Score, dtype: int64"
      ]
     },
     "execution_count": 36,
     "metadata": {},
     "output_type": "execute_result"
    }
   ],
   "source": [
    "df['Credit_Score'].value_counts()"
   ]
  },
  {
   "cell_type": "code",
   "execution_count": 37,
   "metadata": {},
   "outputs": [
    {
     "data": {
      "text/plain": [
       "Yes    52326\n",
       "No     35667\n",
       "NM     12007\n",
       "Name: Payment_of_Min_Amount, dtype: int64"
      ]
     },
     "execution_count": 37,
     "metadata": {},
     "output_type": "execute_result"
    }
   ],
   "source": [
    "df['Payment_of_Min_Amount'].value_counts()"
   ]
  },
  {
   "cell_type": "code",
   "execution_count": 38,
   "metadata": {},
   "outputs": [],
   "source": [
    "\n",
    "df['Payment_of_Min_Amount'] = df['Payment_of_Min_Amount'].replace('NM', np.nan).fillna(method='bfill')\n"
   ]
  },
  {
   "cell_type": "code",
   "execution_count": 39,
   "metadata": {},
   "outputs": [
    {
     "data": {
      "text/plain": [
       "Yes    59438\n",
       "No     40562\n",
       "Name: Payment_of_Min_Amount, dtype: int64"
      ]
     },
     "execution_count": 39,
     "metadata": {},
     "output_type": "execute_result"
    }
   ],
   "source": [
    "df['Payment_of_Min_Amount'].value_counts()"
   ]
  },
  {
   "cell_type": "code",
   "execution_count": 40,
   "metadata": {},
   "outputs": [
    {
     "name": "stdout",
     "output_type": "stream",
     "text": [
      "ID                            int64\n",
      "Customer_ID                   int64\n",
      "Month                         int64\n",
      "Name                         object\n",
      "Age                           int32\n",
      "SSN                           int64\n",
      "Occupation                   object\n",
      "Annual_Income               float64\n",
      "Monthly_Inhand_Salary       float64\n",
      "Num_Bank_Accounts             int64\n",
      "Num_Credit_Card               int64\n",
      "Interest_Rate               float64\n",
      "Num_of_Loan                 float64\n",
      "Type_of_Loan                 object\n",
      "Delay_from_due_date           int64\n",
      "Num_of_Delayed_Payment      float64\n",
      "Changed_Credit_Limit        float64\n",
      "Num_Credit_Inquiries        float64\n",
      "Credit_Mix                   object\n",
      "Outstanding_Debt            float64\n",
      "Credit_Utilization_Ratio    float64\n",
      "Credit_History_Age            int64\n",
      "Payment_of_Min_Amount        object\n",
      "Total_EMI_per_month         float64\n",
      "Amount_invested_monthly     float64\n",
      "Payment_Behaviour            object\n",
      "Monthly_Balance             float64\n",
      "Credit_Score                 object\n",
      "dtype: object\n"
     ]
    }
   ],
   "source": [
    "df['Age'] = df['Age'].astype(int)\n",
    "df['Annual_Income'] = df['Annual_Income'].astype(float)\n",
    "df['Monthly_Inhand_Salary'] = df['Monthly_Inhand_Salary'].astype(float)\n",
    "df['Num_of_Loan'] = df['Num_of_Loan'].astype(float)\n",
    "df['Num_of_Delayed_Payment'] = df['Num_of_Delayed_Payment'].astype(float)\n",
    "df['Changed_Credit_Limit'] = df['Changed_Credit_Limit'].astype(float)\n",
    "df['Num_Credit_Inquiries'] = df['Num_Credit_Inquiries'].astype(float)\n",
    "df['Outstanding_Debt'] = df['Outstanding_Debt'].astype(float)\n",
    "df['Credit_Utilization_Ratio'] = df['Credit_Utilization_Ratio'].astype(float)\n",
    "df['Total_EMI_per_month'] = df['Total_EMI_per_month'].astype(float)\n",
    "df['Amount_invested_monthly'] = df['Amount_invested_monthly'].astype(float)\n",
    "df['Monthly_Balance'] = df['Monthly_Balance'].astype(float)\n",
    "\n",
    "# Convert Interest_Rate and Num_of_Loan to float and Credit_History_Age to object\n",
    "df['Interest_Rate'] = df['Interest_Rate'].astype(float)\n",
    "df['Num_of_Loan'] = df['Num_of_Loan'].astype(float)\n",
    "df['Num_of_Delayed_Payment'] = df['Num_of_Delayed_Payment'].astype(float)\n",
    "df['Num_Credit_Inquiries'] = df['Num_Credit_Inquiries'].astype(float)\n",
    "\n",
    "# Print the data types to verify the conversion\n",
    "print(df.dtypes)"
   ]
  },
  {
   "cell_type": "code",
   "execution_count": 41,
   "metadata": {},
   "outputs": [
    {
     "data": {
      "text/plain": [
       "array([23, 28, 34, 54, 55, 21, 31, 33, 30, 24, 44, 45, 40, 41, 32, 35, 36,\n",
       "       39, 37, 20, 46, 26, 42, 19, 48, 38, 43, 22, 16, 18, 15, 27, 25, 14,\n",
       "       17, 47, 53, 56, 29, 49, 51, 50, 52])"
      ]
     },
     "execution_count": 41,
     "metadata": {},
     "output_type": "execute_result"
    }
   ],
   "source": [
    "df['Age'].unique()"
   ]
  },
  {
   "cell_type": "code",
   "execution_count": 42,
   "metadata": {},
   "outputs": [],
   "source": [
    "df.drop('Type_of_Loan', axis=1, inplace=True)"
   ]
  },
  {
   "cell_type": "markdown",
   "metadata": {},
   "source": [
    "# Data Visualizaton"
   ]
  },
  {
   "cell_type": "code",
   "execution_count": null,
   "metadata": {},
   "outputs": [],
   "source": [
    "plt.figure(figsize=(10, 6))\n",
    "sns.lineplot(data=df, x='Month', y='Total_EMI_per_month')\n",
    "plt.title('Total EMI per Month Over Time')\n",
    "plt.xlabel('Month')\n",
    "plt.ylabel('Total EMI per Month')\n",
    "plt.xticks(rotation=45)\n",
    "plt.grid(True)\n",
    "plt.show()"
   ]
  },
  {
   "cell_type": "code",
   "execution_count": null,
   "metadata": {},
   "outputs": [],
   "source": [
    "unique_months = df['Month'].unique()\n",
    "\n",
    "plt.figure(figsize=(15, 10))\n",
    "\n",
    "num_cols = 3  # Number of columns for subplots\n",
    "num_rows = (len(unique_months) + num_cols - 1) // num_cols  # Number of rows for subplots\n",
    "\n",
    "for i, month in enumerate(unique_months, start=1):\n",
    "    plt.subplot(num_rows, num_cols, i)\n",
    "    data = df[df['Month'] == month]['Num_of_Loan'].value_counts()\n",
    "    labels = data.index\n",
    "    plt.pie(data, labels=labels, autopct='%1.1f%%')\n",
    "    plt.title(f'Distribution of Number of loans in {month} month')\n",
    "    plt.ylabel('')\n",
    "\n",
    "plt.tight_layout()\n",
    "plt.show()\n"
   ]
  },
  {
   "cell_type": "code",
   "execution_count": null,
   "metadata": {},
   "outputs": [],
   "source": [
    "\n",
    "plt.figure(figsize=(10, 6))\n",
    "a = sns.countplot(data=df, x='Payment_Behaviour')\n",
    "plt.title('Count of Payment Behaviours')\n",
    "plt.xlabel('Payment Behaviour')\n",
    "plt.ylabel('Count')\n",
    "plt.xticks(rotation=45)\n",
    "\n",
    "\n",
    "for p in a.patches:\n",
    "    a.annotate(format(p.get_height(), '.0f'), \n",
    "                 (p.get_x() + p.get_width() / 2., p.get_height()), \n",
    "                 ha = 'center', va = 'center', \n",
    "                 xytext = (0, 8), \n",
    "                 textcoords = 'offset points')\n",
    "plt.show()\n"
   ]
  },
  {
   "cell_type": "code",
   "execution_count": null,
   "metadata": {},
   "outputs": [],
   "source": [
    "\n",
    "plt.figure(figsize=(10, 6))\n",
    "sns.countplot(data=df, x='Occupation', hue='Payment_Behaviour')\n",
    "plt.title('Count of Payment Behaviour by Occupation')\n",
    "plt.xlabel('Occupation')\n",
    "plt.ylabel('Count')\n",
    "plt.legend(title='Payment Behaviour')\n",
    "plt.xticks(rotation=45)\n",
    "plt.show()"
   ]
  },
  {
   "cell_type": "code",
   "execution_count": null,
   "metadata": {},
   "outputs": [],
   "source": [
    "\n",
    "# Distribution plots\n",
    "plt.figure(figsize=(10, 6))\n",
    "sns.histplot(data=df, x='Age', bins=30, kde=True)\n",
    "plt.title('Distribution of Age')\n",
    "plt.xlabel('Age')\n",
    "plt.ylabel('Frequency')\n",
    "plt.show()\n"
   ]
  },
  {
   "cell_type": "code",
   "execution_count": null,
   "metadata": {},
   "outputs": [],
   "source": [
    "\n",
    "plt.figure(figsize=(10, 6))\n",
    "sns.countplot(data=df, x='Occupation')\n",
    "plt.title('Count of Occupation')\n",
    "plt.xlabel('Occupation')\n",
    "plt.ylabel('Count')\n",
    "plt.xticks(rotation=45)\n",
    "plt.show()\n"
   ]
  },
  {
   "cell_type": "code",
   "execution_count": null,
   "metadata": {},
   "outputs": [],
   "source": [
    "avg_monthly_balance_by_occupation = df.groupby('Occupation')['Monthly_Balance'].mean().reset_index()\n",
    "\n",
    "plt.figure(figsize=(10, 8))\n",
    "a = sns.barplot(data=avg_monthly_balance_by_occupation, x='Occupation', y='Monthly_Balance')\n",
    "plt.title('Average Monthly Balance by Occupation')\n",
    "plt.xlabel('Occupation')\n",
    "plt.ylabel('Average Monthly Balance')\n",
    "plt.xticks(rotation=45)\n",
    "plt.show()\n",
    "\n",
    "for p in a.patches:\n",
    "    a.annotate(format(p.get_height(), '.0f'), \n",
    "                 (p.get_x() + p.get_width() / 2., p.get_height()), \n",
    "                 ha = 'center', va = 'center', \n",
    "                 xytext = (0, 10), \n",
    "                 textcoords = 'offset points')\n",
    "\n",
    "\n",
    "plt.show()"
   ]
  },
  {
   "cell_type": "code",
   "execution_count": null,
   "metadata": {},
   "outputs": [],
   "source": [
    "\n",
    "# Relationship plots\n",
    "plt.figure(figsize=(10, 6))\n",
    "sns.boxplot(data=df, x='Occupation', y='Annual_Income')\n",
    "plt.title('Annual Income by Occupation')\n",
    "plt.xlabel('Occupation')\n",
    "plt.ylabel('Annual Income')\n",
    "plt.xticks(rotation=45)\n",
    "plt.show()\n"
   ]
  },
  {
   "cell_type": "code",
   "execution_count": null,
   "metadata": {},
   "outputs": [],
   "source": [
    "\n",
    "plt.figure(figsize=(10, 6))\n",
    "sns.pairplot(df[['Age', 'Annual_Income', 'Monthly_Inhand_Salary', 'Credit_Score']])\n",
    "plt.show()\n"
   ]
  },
  {
   "cell_type": "code",
   "execution_count": null,
   "metadata": {},
   "outputs": [],
   "source": [
    "\n",
    "# Correlation plot VALUES ONLY\n",
    "plt.figure(figsize=(22, 12))\n",
    "sns.heatmap(df.corr(), annot=True)\n",
    "plt.title('Correlation Matrix')\n",
    "plt.show()"
   ]
  },
  {
   "cell_type": "code",
   "execution_count": 43,
   "metadata": {},
   "outputs": [
    {
     "data": {
      "text/plain": [
       "Index(['Age', 'Occupation', 'Annual_Income', 'Monthly_Inhand_Salary',\n",
       "       'Num_Bank_Accounts', 'Num_Credit_Card', 'Interest_Rate', 'Num_of_Loan',\n",
       "       'Delay_from_due_date', 'Num_of_Delayed_Payment', 'Changed_Credit_Limit',\n",
       "       'Num_Credit_Inquiries', 'Credit_Mix', 'Outstanding_Debt',\n",
       "       'Credit_Utilization_Ratio', 'Credit_History_Age',\n",
       "       'Payment_of_Min_Amount', 'Total_EMI_per_month',\n",
       "       'Amount_invested_monthly', 'Payment_Behaviour', 'Monthly_Balance',\n",
       "       'Credit_Score'],\n",
       "      dtype='object')"
      ]
     },
     "execution_count": 43,
     "metadata": {},
     "output_type": "execute_result"
    }
   ],
   "source": [
    "df.drop(['SSN','ID','Customer_ID', 'Name', 'Month'], axis=1, inplace=True)\n",
    "df.columns"
   ]
  },
  {
   "cell_type": "code",
   "execution_count": null,
   "metadata": {},
   "outputs": [],
   "source": [
    "my_report = sv.analyze(df)\n",
    "my_report.show_html('Custom_Report_analysis.html')"
   ]
  },
  {
   "cell_type": "code",
   "execution_count": 44,
   "metadata": {},
   "outputs": [],
   "source": [
    "df.to_csv('data/df_clean.csv')"
   ]
  },
  {
   "cell_type": "markdown",
   "metadata": {},
   "source": [
    "# Training the model "
   ]
  },
  {
   "cell_type": "code",
   "execution_count": 45,
   "metadata": {},
   "outputs": [],
   "source": [
    "enc = OrdinalEncoder(handle_unknown='use_encoded_value', unknown_value=-1)"
   ]
  },
  {
   "cell_type": "code",
   "execution_count": 46,
   "metadata": {},
   "outputs": [],
   "source": [
    "le = LabelEncoder()"
   ]
  },
  {
   "cell_type": "code",
   "execution_count": 47,
   "metadata": {},
   "outputs": [],
   "source": [
    "target_col = 'Credit_Score'\n",
    "\n",
    "X = df.drop(columns=[target_col]) #features\n",
    "\n",
    "y = df[target_col] # Target Variable\n",
    "\n"
   ]
  },
  {
   "cell_type": "code",
   "execution_count": 48,
   "metadata": {},
   "outputs": [],
   "source": [
    "X_train, X_test, y_train, y_test = train_test_split(X, y, test_size=0.2, random_state=42)"
   ]
  },
  {
   "cell_type": "code",
   "execution_count": 49,
   "metadata": {},
   "outputs": [],
   "source": [
    "# Occupation, Payment_of_Min_Amount - label encoding\n",
    "# Payment_Behaviour, Credit_Mix - Ordinal encoding *\n",
    "\n",
    "\n",
    "\n",
    "cat = ['Occupation','Payment_of_Min_Amount']\n",
    "\n",
    "for col in cat:\n",
    "    X_train[col] = le.fit_transform(X_train[col])\n",
    "    X_test[col] = le.transform(X_test[col])\n",
    "\n",
    "\n",
    "\n",
    "columns_to_encode = ['Payment_Behaviour', 'Credit_Mix']\n",
    "\n",
    "for col in columns_to_encode:\n",
    "    X_train[col] = enc.fit_transform(X_train[[col]])\n",
    "    X_test[col] = enc.transform(X_test[[col]])"
   ]
  },
  {
   "cell_type": "code",
   "execution_count": 50,
   "metadata": {},
   "outputs": [
    {
     "data": {
      "text/plain": [
       "Index(['Age', 'Occupation', 'Annual_Income', 'Monthly_Inhand_Salary',\n",
       "       'Num_Bank_Accounts', 'Num_Credit_Card', 'Interest_Rate', 'Num_of_Loan',\n",
       "       'Delay_from_due_date', 'Num_of_Delayed_Payment', 'Changed_Credit_Limit',\n",
       "       'Num_Credit_Inquiries', 'Credit_Mix', 'Outstanding_Debt',\n",
       "       'Credit_Utilization_Ratio', 'Credit_History_Age',\n",
       "       'Payment_of_Min_Amount', 'Total_EMI_per_month',\n",
       "       'Amount_invested_monthly', 'Payment_Behaviour', 'Monthly_Balance'],\n",
       "      dtype='object')"
      ]
     },
     "execution_count": 50,
     "metadata": {},
     "output_type": "execute_result"
    }
   ],
   "source": [
    "X.columns"
   ]
  },
  {
   "cell_type": "code",
   "execution_count": 51,
   "metadata": {},
   "outputs": [
    {
     "data": {
      "text/plain": [
       "Standard    0.53174\n",
       "Poor        0.28998\n",
       "Good        0.17828\n",
       "Name: Credit_Score, dtype: float64"
      ]
     },
     "execution_count": 51,
     "metadata": {},
     "output_type": "execute_result"
    }
   ],
   "source": [
    "y.value_counts(normalize=True)"
   ]
  },
  {
   "cell_type": "code",
   "execution_count": 52,
   "metadata": {},
   "outputs": [
    {
     "name": "stdout",
     "output_type": "stream",
     "text": [
      "['Good' 'Poor' 'Standard']\n"
     ]
    },
    {
     "data": {
      "text/plain": [
       "0    14301\n",
       "1    23124\n",
       "2    42575\n",
       "dtype: int64"
      ]
     },
     "execution_count": 52,
     "metadata": {},
     "output_type": "execute_result"
    }
   ],
   "source": [
    "\n",
    "print(np.unique(y_train))\n",
    "y_train = le.fit_transform(y_train)\n",
    "y_test   = le.transform(y_test)\n",
    "\n",
    "pd.DataFrame(y_train).value_counts().sort_index()"
   ]
  },
  {
   "cell_type": "code",
   "execution_count": 53,
   "metadata": {},
   "outputs": [
    {
     "data": {
      "text/plain": [
       "array(['Poor'], dtype=object)"
      ]
     },
     "execution_count": 53,
     "metadata": {},
     "output_type": "execute_result"
    }
   ],
   "source": [
    "le.inverse_transform([1])"
   ]
  },
  {
   "cell_type": "code",
   "execution_count": 54,
   "metadata": {},
   "outputs": [],
   "source": [
    "scaler = MinMaxScaler()\n",
    "\n",
    "X_train = pd.DataFrame(scaler.fit_transform(X_train), columns=X_train.columns)\n",
    "X_test = pd.DataFrame(scaler.transform(X_test), columns=X_test.columns)"
   ]
  },
  {
   "cell_type": "code",
   "execution_count": 55,
   "metadata": {},
   "outputs": [],
   "source": [
    "# Apply SMOTE to balance the target variable\n",
    "smote = SMOTE(random_state=42)\n",
    "X_train, y_train = smote.fit_resample(X_train, y_train)"
   ]
  },
  {
   "cell_type": "code",
   "execution_count": 56,
   "metadata": {},
   "outputs": [
    {
     "name": "stdout",
     "output_type": "stream",
     "text": [
      "                       Specs        pvalue         Score\n",
      "16     Payment_of_Min_Amount  0.000000e+00  31587.077408\n",
      "6              Interest_Rate  0.000000e+00  31472.146930\n",
      "11      Num_Credit_Inquiries  0.000000e+00  23695.336542\n",
      "8        Delay_from_due_date  0.000000e+00  22845.473683\n",
      "5            Num_Credit_Card  0.000000e+00  19204.509482\n",
      "4          Num_Bank_Accounts  0.000000e+00  18770.308757\n",
      "15        Credit_History_Age  0.000000e+00  18531.891792\n",
      "13          Outstanding_Debt  0.000000e+00  18065.329669\n",
      "9     Num_of_Delayed_Payment  0.000000e+00  17826.087082\n",
      "7                Num_of_Loan  0.000000e+00  14994.363219\n",
      "12                Credit_Mix  0.000000e+00   7707.717438\n",
      "10      Changed_Credit_Limit  0.000000e+00   5929.353645\n",
      "2              Annual_Income  0.000000e+00   4399.088200\n",
      "3      Monthly_Inhand_Salary  0.000000e+00   4272.379968\n",
      "20           Monthly_Balance  0.000000e+00   3683.296435\n",
      "18   Amount_invested_monthly  0.000000e+00   2859.463197\n",
      "0                        Age  0.000000e+00   2606.557106\n",
      "19         Payment_Behaviour  0.000000e+00   1282.587556\n",
      "14  Credit_Utilization_Ratio  2.827292e-90    206.526574\n",
      "17       Total_EMI_per_month  1.947341e-80    183.804349\n",
      "1                 Occupation  1.855477e-04      8.592777\n"
     ]
    }
   ],
   "source": [
    "bestfeatures = SelectKBest(score_func=f_classif, k=20)\n",
    "fit = bestfeatures.fit(X_train,y_train)\n",
    "dfscores = pd.DataFrame(fit.scores_)\n",
    "dfpvalue= pd.DataFrame(fit.pvalues_)\n",
    "dfcolumns = pd.DataFrame(X_train.columns)\n",
    "#concat two dataframes for better visualization \n",
    "featureScores = pd.concat([dfcolumns,dfpvalue,dfscores],axis=1)\n",
    "featureScores.columns = ['Specs','pvalue','Score']  #naming the dataframe columns\n",
    "print(featureScores.nlargest(21,'Score'))  #print 10 best features"
   ]
  },
  {
   "cell_type": "code",
   "execution_count": 57,
   "metadata": {},
   "outputs": [],
   "source": [
    "drop_columns=['Credit_Utilization_Ratio','Total_EMI_per_month','Occupation']"
   ]
  },
  {
   "cell_type": "code",
   "execution_count": 58,
   "metadata": {},
   "outputs": [],
   "source": [
    "X_train=X_train.drop(columns=drop_columns)\n",
    "X_test =X_test.drop(columns=drop_columns)"
   ]
  },
  {
   "cell_type": "code",
   "execution_count": 59,
   "metadata": {},
   "outputs": [],
   "source": [
    "#ROC dict for TPR and FPR values\n",
    "roc_dict = {}\n",
    "#precision recall curve\n",
    "prc_dict = {}\n",
    "\n",
    "def modify_roc_dict(clf, y_test, X_test, name ,dict_modify):\n",
    "    \"\"\"\n",
    "    modifies a dictionary in place and adds keys for ROC metrics\n",
    "    \"\"\"\n",
    "    \n",
    "    fpr, tpr, thresholds = roc_curve(y_test,\n",
    "                                     clf.predict_proba(X_test)[:,1],\n",
    "                                     pos_label=1)\n",
    "    \n",
    "    \n",
    "    clf_roc_dict = {'fpr':fpr, 'tpr': tpr, 'thresholds': thresholds}\n",
    "    \n",
    "    dict_modify[name] = clf_roc_dict\n",
    "    \n",
    "def modify_prc_dict(clf, y_test, X_test, name ,dict_modify):\n",
    "    \"\"\"\n",
    "    modifies a dictionary in place and adds keys for precision recall metrics\n",
    "    \"\"\"\n",
    "    \n",
    "    precision, recall, thresholds = precision_recall_curve(y_test,\n",
    "                                     clf.predict_proba(X_test)[:,1],\n",
    "                                     pos_label=1)\n",
    "    \n",
    "    clf_prc_dict = {'precision':precision, 'recall': recall, 'thresholds': thresholds}\n",
    "    \n",
    "    dict_modify[name] = clf_prc_dict"
   ]
  },
  {
   "cell_type": "code",
   "execution_count": 60,
   "metadata": {},
   "outputs": [],
   "source": [
    "def fit_score_clf(clf, X_train, y_train, X_test, y_test, name='clf'):\n",
    "    \n",
    "    #fit to train data\n",
    "    clf.fit(X_train, y_train)\n",
    "\n",
    "    y_pred = clf.predict(X_test)\n",
    "\n",
    "    clf_report = pd.DataFrame(classification_report(y_test, y_pred, output_dict=True))\n",
    "    \n",
    "    clf_report['clf'] = name  #add clf name as column\n",
    "    \n",
    "    return clf_report"
   ]
  },
  {
   "cell_type": "code",
   "execution_count": 61,
   "metadata": {},
   "outputs": [
    {
     "data": {
      "text/html": [
       "<div>\n",
       "<style scoped>\n",
       "    .dataframe tbody tr th:only-of-type {\n",
       "        vertical-align: middle;\n",
       "    }\n",
       "\n",
       "    .dataframe tbody tr th {\n",
       "        vertical-align: top;\n",
       "    }\n",
       "\n",
       "    .dataframe thead th {\n",
       "        text-align: right;\n",
       "    }\n",
       "</style>\n",
       "<table border=\"1\" class=\"dataframe\">\n",
       "  <thead>\n",
       "    <tr style=\"text-align: right;\">\n",
       "      <th></th>\n",
       "      <th>0</th>\n",
       "      <th>1</th>\n",
       "      <th>2</th>\n",
       "      <th>accuracy</th>\n",
       "      <th>macro avg</th>\n",
       "      <th>weighted avg</th>\n",
       "      <th>clf</th>\n",
       "    </tr>\n",
       "  </thead>\n",
       "  <tbody>\n",
       "    <tr>\n",
       "      <th>precision</th>\n",
       "      <td>0.485782</td>\n",
       "      <td>0.620975</td>\n",
       "      <td>0.792696</td>\n",
       "      <td>0.6471</td>\n",
       "      <td>0.633151</td>\n",
       "      <td>0.688137</td>\n",
       "      <td>lr</td>\n",
       "    </tr>\n",
       "    <tr>\n",
       "      <th>recall</th>\n",
       "      <td>0.813723</td>\n",
       "      <td>0.676370</td>\n",
       "      <td>0.575432</td>\n",
       "      <td>0.6471</td>\n",
       "      <td>0.688508</td>\n",
       "      <td>0.647100</td>\n",
       "      <td>lr</td>\n",
       "    </tr>\n",
       "    <tr>\n",
       "      <th>f1-score</th>\n",
       "      <td>0.608373</td>\n",
       "      <td>0.647490</td>\n",
       "      <td>0.666812</td>\n",
       "      <td>0.6471</td>\n",
       "      <td>0.640892</td>\n",
       "      <td>0.650832</td>\n",
       "      <td>lr</td>\n",
       "    </tr>\n",
       "    <tr>\n",
       "      <th>support</th>\n",
       "      <td>3527.000000</td>\n",
       "      <td>5874.000000</td>\n",
       "      <td>10599.000000</td>\n",
       "      <td>0.6471</td>\n",
       "      <td>20000.000000</td>\n",
       "      <td>20000.000000</td>\n",
       "      <td>lr</td>\n",
       "    </tr>\n",
       "  </tbody>\n",
       "</table>\n",
       "</div>"
      ],
      "text/plain": [
       "                     0            1             2  accuracy     macro avg  \\\n",
       "precision     0.485782     0.620975      0.792696    0.6471      0.633151   \n",
       "recall        0.813723     0.676370      0.575432    0.6471      0.688508   \n",
       "f1-score      0.608373     0.647490      0.666812    0.6471      0.640892   \n",
       "support    3527.000000  5874.000000  10599.000000    0.6471  20000.000000   \n",
       "\n",
       "           weighted avg clf  \n",
       "precision      0.688137  lr  \n",
       "recall         0.647100  lr  \n",
       "f1-score       0.650832  lr  \n",
       "support    20000.000000  lr  "
      ]
     },
     "execution_count": 61,
     "metadata": {},
     "output_type": "execute_result"
    }
   ],
   "source": [
    "lr  = LogisticRegression(penalty='l2',\n",
    "                         C=1.0,\n",
    "                         solver = 'lbfgs',\n",
    "                         max_iter=400,\n",
    "                         n_jobs=-1)\n",
    "\n",
    "lr_report = fit_score_clf(lr, X_train, y_train, X_test, y_test, name='lr')\n",
    "lr_report.head()"
   ]
  },
  {
   "cell_type": "code",
   "execution_count": 62,
   "metadata": {},
   "outputs": [],
   "source": [
    "# metrics for Logistic Regression\n",
    "\n",
    "modify_roc_dict(clf=lr,\n",
    "                y_test=y_test,\n",
    "                X_test=X_test,\n",
    "                name='Logistic Regression', \n",
    "                dict_modify=roc_dict)\n",
    "modify_prc_dict(clf=lr,\n",
    "                y_test=y_test,\n",
    "                X_test=X_test,\n",
    "                name='Logistic Regression',\n",
    "                dict_modify=prc_dict)"
   ]
  },
  {
   "cell_type": "code",
   "execution_count": 63,
   "metadata": {},
   "outputs": [
    {
     "data": {
      "text/html": [
       "<div>\n",
       "<style scoped>\n",
       "    .dataframe tbody tr th:only-of-type {\n",
       "        vertical-align: middle;\n",
       "    }\n",
       "\n",
       "    .dataframe tbody tr th {\n",
       "        vertical-align: top;\n",
       "    }\n",
       "\n",
       "    .dataframe thead th {\n",
       "        text-align: right;\n",
       "    }\n",
       "</style>\n",
       "<table border=\"1\" class=\"dataframe\">\n",
       "  <thead>\n",
       "    <tr style=\"text-align: right;\">\n",
       "      <th></th>\n",
       "      <th>0</th>\n",
       "      <th>1</th>\n",
       "      <th>2</th>\n",
       "      <th>accuracy</th>\n",
       "      <th>macro avg</th>\n",
       "      <th>weighted avg</th>\n",
       "      <th>clf</th>\n",
       "    </tr>\n",
       "  </thead>\n",
       "  <tbody>\n",
       "    <tr>\n",
       "      <th>precision</th>\n",
       "      <td>0.519390</td>\n",
       "      <td>0.624215</td>\n",
       "      <td>0.850904</td>\n",
       "      <td>0.6759</td>\n",
       "      <td>0.664836</td>\n",
       "      <td>0.725863</td>\n",
       "      <td>Decision Tree</td>\n",
       "    </tr>\n",
       "    <tr>\n",
       "      <th>recall</th>\n",
       "      <td>0.801248</td>\n",
       "      <td>0.795199</td>\n",
       "      <td>0.568072</td>\n",
       "      <td>0.6759</td>\n",
       "      <td>0.721506</td>\n",
       "      <td>0.675900</td>\n",
       "      <td>Decision Tree</td>\n",
       "    </tr>\n",
       "    <tr>\n",
       "      <th>f1-score</th>\n",
       "      <td>0.630241</td>\n",
       "      <td>0.699409</td>\n",
       "      <td>0.681301</td>\n",
       "      <td>0.6759</td>\n",
       "      <td>0.670317</td>\n",
       "      <td>0.677615</td>\n",
       "      <td>Decision Tree</td>\n",
       "    </tr>\n",
       "    <tr>\n",
       "      <th>support</th>\n",
       "      <td>3527.000000</td>\n",
       "      <td>5874.000000</td>\n",
       "      <td>10599.000000</td>\n",
       "      <td>0.6759</td>\n",
       "      <td>20000.000000</td>\n",
       "      <td>20000.000000</td>\n",
       "      <td>Decision Tree</td>\n",
       "    </tr>\n",
       "  </tbody>\n",
       "</table>\n",
       "</div>"
      ],
      "text/plain": [
       "                     0            1             2  accuracy     macro avg  \\\n",
       "precision     0.519390     0.624215      0.850904    0.6759      0.664836   \n",
       "recall        0.801248     0.795199      0.568072    0.6759      0.721506   \n",
       "f1-score      0.630241     0.699409      0.681301    0.6759      0.670317   \n",
       "support    3527.000000  5874.000000  10599.000000    0.6759  20000.000000   \n",
       "\n",
       "           weighted avg            clf  \n",
       "precision      0.725863  Decision Tree  \n",
       "recall         0.675900  Decision Tree  \n",
       "f1-score       0.677615  Decision Tree  \n",
       "support    20000.000000  Decision Tree  "
      ]
     },
     "execution_count": 63,
     "metadata": {},
     "output_type": "execute_result"
    }
   ],
   "source": [
    "dt = DecisionTreeClassifier(max_depth=5, min_samples_split=2)\n",
    "\n",
    "dt_report = fit_score_clf(dt, X_train, y_train, X_test, y_test, name='Decision Tree')\n",
    "dt_report.head()\n"
   ]
  },
  {
   "cell_type": "code",
   "execution_count": 64,
   "metadata": {},
   "outputs": [],
   "source": [
    "# metrics for Decision Tree Classifier\n",
    "modify_roc_dict(clf = dt, \n",
    "                y_test = y_test,\n",
    "                X_test = X_test,\n",
    "                name='Decision Tree',\n",
    "                dict_modify=roc_dict)\n",
    "modify_prc_dict(clf=dt,\n",
    "                y_test=y_test,\n",
    "                X_test=X_test,\n",
    "                name='Decision Tree',\n",
    "                dict_modify=prc_dict)\n"
   ]
  },
  {
   "cell_type": "code",
   "execution_count": 67,
   "metadata": {},
   "outputs": [
    {
     "data": {
      "text/html": [
       "<div>\n",
       "<style scoped>\n",
       "    .dataframe tbody tr th:only-of-type {\n",
       "        vertical-align: middle;\n",
       "    }\n",
       "\n",
       "    .dataframe tbody tr th {\n",
       "        vertical-align: top;\n",
       "    }\n",
       "\n",
       "    .dataframe thead th {\n",
       "        text-align: right;\n",
       "    }\n",
       "</style>\n",
       "<table border=\"1\" class=\"dataframe\">\n",
       "  <thead>\n",
       "    <tr style=\"text-align: right;\">\n",
       "      <th></th>\n",
       "      <th>0</th>\n",
       "      <th>1</th>\n",
       "      <th>2</th>\n",
       "      <th>accuracy</th>\n",
       "      <th>macro avg</th>\n",
       "      <th>weighted avg</th>\n",
       "      <th>clf</th>\n",
       "    </tr>\n",
       "  </thead>\n",
       "  <tbody>\n",
       "    <tr>\n",
       "      <th>precision</th>\n",
       "      <td>0.761050</td>\n",
       "      <td>0.795369</td>\n",
       "      <td>0.853312</td>\n",
       "      <td>0.8177</td>\n",
       "      <td>0.803244</td>\n",
       "      <td>0.820024</td>\n",
       "      <td>rf</td>\n",
       "    </tr>\n",
       "    <tr>\n",
       "      <th>recall</th>\n",
       "      <td>0.805500</td>\n",
       "      <td>0.859551</td>\n",
       "      <td>0.798566</td>\n",
       "      <td>0.8177</td>\n",
       "      <td>0.821206</td>\n",
       "      <td>0.817700</td>\n",
       "      <td>rf</td>\n",
       "    </tr>\n",
       "    <tr>\n",
       "      <th>f1-score</th>\n",
       "      <td>0.782645</td>\n",
       "      <td>0.826215</td>\n",
       "      <td>0.825032</td>\n",
       "      <td>0.8177</td>\n",
       "      <td>0.811297</td>\n",
       "      <td>0.817904</td>\n",
       "      <td>rf</td>\n",
       "    </tr>\n",
       "    <tr>\n",
       "      <th>support</th>\n",
       "      <td>3527.000000</td>\n",
       "      <td>5874.000000</td>\n",
       "      <td>10599.000000</td>\n",
       "      <td>0.8177</td>\n",
       "      <td>20000.000000</td>\n",
       "      <td>20000.000000</td>\n",
       "      <td>rf</td>\n",
       "    </tr>\n",
       "  </tbody>\n",
       "</table>\n",
       "</div>"
      ],
      "text/plain": [
       "                     0            1             2  accuracy     macro avg  \\\n",
       "precision     0.761050     0.795369      0.853312    0.8177      0.803244   \n",
       "recall        0.805500     0.859551      0.798566    0.8177      0.821206   \n",
       "f1-score      0.782645     0.826215      0.825032    0.8177      0.811297   \n",
       "support    3527.000000  5874.000000  10599.000000    0.8177  20000.000000   \n",
       "\n",
       "           weighted avg clf  \n",
       "precision      0.820024  rf  \n",
       "recall         0.817700  rf  \n",
       "f1-score       0.817904  rf  \n",
       "support    20000.000000  rf  "
      ]
     },
     "execution_count": 67,
     "metadata": {},
     "output_type": "execute_result"
    }
   ],
   "source": [
    "rf_clf = RandomForestClassifier(n_estimators=100, n_jobs=-1)\n",
    "\n",
    "rf_report = fit_score_clf(rf_clf, X_train, y_train, X_test, y_test, name='rf')\n",
    "rf_report.head()\n"
   ]
  },
  {
   "cell_type": "code",
   "execution_count": 68,
   "metadata": {},
   "outputs": [],
   "source": [
    "#metrics for Random Forest Classifier\n",
    "modify_roc_dict(rf_clf, y_test, X_test, name='RandomForest',dict_modify=roc_dict)\n",
    "modify_prc_dict(clf=rf_clf,\n",
    "                y_test=y_test,\n",
    "                X_test=X_test,\n",
    "                name='RandomForest',\n",
    "                dict_modify=prc_dict)\n"
   ]
  },
  {
   "cell_type": "code",
   "execution_count": 69,
   "metadata": {},
   "outputs": [
    {
     "data": {
      "text/html": [
       "<div>\n",
       "<style scoped>\n",
       "    .dataframe tbody tr th:only-of-type {\n",
       "        vertical-align: middle;\n",
       "    }\n",
       "\n",
       "    .dataframe tbody tr th {\n",
       "        vertical-align: top;\n",
       "    }\n",
       "\n",
       "    .dataframe thead th {\n",
       "        text-align: right;\n",
       "    }\n",
       "</style>\n",
       "<table border=\"1\" class=\"dataframe\">\n",
       "  <thead>\n",
       "    <tr style=\"text-align: right;\">\n",
       "      <th></th>\n",
       "      <th>0</th>\n",
       "      <th>1</th>\n",
       "      <th>2</th>\n",
       "      <th>accuracy</th>\n",
       "      <th>macro avg</th>\n",
       "      <th>weighted avg</th>\n",
       "      <th>clf</th>\n",
       "    </tr>\n",
       "  </thead>\n",
       "  <tbody>\n",
       "    <tr>\n",
       "      <th>precision</th>\n",
       "      <td>0.531092</td>\n",
       "      <td>0.672608</td>\n",
       "      <td>0.825640</td>\n",
       "      <td>0.69655</td>\n",
       "      <td>0.676447</td>\n",
       "      <td>0.728751</td>\n",
       "      <td>gbtree</td>\n",
       "    </tr>\n",
       "    <tr>\n",
       "      <th>recall</th>\n",
       "      <td>0.806351</td>\n",
       "      <td>0.751617</td>\n",
       "      <td>0.629493</td>\n",
       "      <td>0.69655</td>\n",
       "      <td>0.729154</td>\n",
       "      <td>0.696550</td>\n",
       "      <td>gbtree</td>\n",
       "    </tr>\n",
       "    <tr>\n",
       "      <th>f1-score</th>\n",
       "      <td>0.640396</td>\n",
       "      <td>0.709921</td>\n",
       "      <td>0.714347</td>\n",
       "      <td>0.69655</td>\n",
       "      <td>0.688221</td>\n",
       "      <td>0.700006</td>\n",
       "      <td>gbtree</td>\n",
       "    </tr>\n",
       "    <tr>\n",
       "      <th>support</th>\n",
       "      <td>3527.000000</td>\n",
       "      <td>5874.000000</td>\n",
       "      <td>10599.000000</td>\n",
       "      <td>0.69655</td>\n",
       "      <td>20000.000000</td>\n",
       "      <td>20000.000000</td>\n",
       "      <td>gbtree</td>\n",
       "    </tr>\n",
       "  </tbody>\n",
       "</table>\n",
       "</div>"
      ],
      "text/plain": [
       "                     0            1             2  accuracy     macro avg  \\\n",
       "precision     0.531092     0.672608      0.825640   0.69655      0.676447   \n",
       "recall        0.806351     0.751617      0.629493   0.69655      0.729154   \n",
       "f1-score      0.640396     0.709921      0.714347   0.69655      0.688221   \n",
       "support    3527.000000  5874.000000  10599.000000   0.69655  20000.000000   \n",
       "\n",
       "           weighted avg     clf  \n",
       "precision      0.728751  gbtree  \n",
       "recall         0.696550  gbtree  \n",
       "f1-score       0.700006  gbtree  \n",
       "support    20000.000000  gbtree  "
      ]
     },
     "execution_count": 69,
     "metadata": {},
     "output_type": "execute_result"
    }
   ],
   "source": [
    "\n",
    "gbtree = GradientBoostingClassifier(learning_rate=0.1, n_estimators = 100)\n",
    "\n",
    "gbtree_report = fit_score_clf(gbtree, X_train, y_train, X_test, y_test, name='gbtree')\n",
    "gbtree_report.head()"
   ]
  },
  {
   "cell_type": "code",
   "execution_count": 70,
   "metadata": {},
   "outputs": [],
   "source": [
    "#metrics for gbtree\n",
    "modify_roc_dict(gbtree, y_test, X_test, name='GBTree',dict_modify=roc_dict)\n",
    "modify_prc_dict(clf=gbtree,\n",
    "                y_test=y_test,\n",
    "                X_test=X_test,\n",
    "                name='GBTree',\n",
    "                dict_modify=prc_dict)\n"
   ]
  },
  {
   "cell_type": "code",
   "execution_count": 71,
   "metadata": {},
   "outputs": [
    {
     "data": {
      "text/html": [
       "<div>\n",
       "<style scoped>\n",
       "    .dataframe tbody tr th:only-of-type {\n",
       "        vertical-align: middle;\n",
       "    }\n",
       "\n",
       "    .dataframe tbody tr th {\n",
       "        vertical-align: top;\n",
       "    }\n",
       "\n",
       "    .dataframe thead th {\n",
       "        text-align: right;\n",
       "    }\n",
       "</style>\n",
       "<table border=\"1\" class=\"dataframe\">\n",
       "  <thead>\n",
       "    <tr style=\"text-align: right;\">\n",
       "      <th></th>\n",
       "      <th>0</th>\n",
       "      <th>1</th>\n",
       "      <th>2</th>\n",
       "      <th>accuracy</th>\n",
       "      <th>macro avg</th>\n",
       "      <th>weighted avg</th>\n",
       "      <th>clf</th>\n",
       "    </tr>\n",
       "  </thead>\n",
       "  <tbody>\n",
       "    <tr>\n",
       "      <th>precision</th>\n",
       "      <td>0.757349</td>\n",
       "      <td>0.789252</td>\n",
       "      <td>0.830386</td>\n",
       "      <td>0.80455</td>\n",
       "      <td>0.792329</td>\n",
       "      <td>0.805425</td>\n",
       "      <td>xgb</td>\n",
       "    </tr>\n",
       "    <tr>\n",
       "      <th>recall</th>\n",
       "      <td>0.774312</td>\n",
       "      <td>0.827545</td>\n",
       "      <td>0.801868</td>\n",
       "      <td>0.80455</td>\n",
       "      <td>0.801242</td>\n",
       "      <td>0.804550</td>\n",
       "      <td>xgb</td>\n",
       "    </tr>\n",
       "    <tr>\n",
       "      <th>f1-score</th>\n",
       "      <td>0.765737</td>\n",
       "      <td>0.807945</td>\n",
       "      <td>0.815878</td>\n",
       "      <td>0.80455</td>\n",
       "      <td>0.796520</td>\n",
       "      <td>0.804706</td>\n",
       "      <td>xgb</td>\n",
       "    </tr>\n",
       "    <tr>\n",
       "      <th>support</th>\n",
       "      <td>3527.000000</td>\n",
       "      <td>5874.000000</td>\n",
       "      <td>10599.000000</td>\n",
       "      <td>0.80455</td>\n",
       "      <td>20000.000000</td>\n",
       "      <td>20000.000000</td>\n",
       "      <td>xgb</td>\n",
       "    </tr>\n",
       "  </tbody>\n",
       "</table>\n",
       "</div>"
      ],
      "text/plain": [
       "                     0            1             2  accuracy     macro avg  \\\n",
       "precision     0.757349     0.789252      0.830386   0.80455      0.792329   \n",
       "recall        0.774312     0.827545      0.801868   0.80455      0.801242   \n",
       "f1-score      0.765737     0.807945      0.815878   0.80455      0.796520   \n",
       "support    3527.000000  5874.000000  10599.000000   0.80455  20000.000000   \n",
       "\n",
       "           weighted avg  clf  \n",
       "precision      0.805425  xgb  \n",
       "recall         0.804550  xgb  \n",
       "f1-score       0.804706  xgb  \n",
       "support    20000.000000  xgb  "
      ]
     },
     "execution_count": 71,
     "metadata": {},
     "output_type": "execute_result"
    }
   ],
   "source": [
    "xgb_clf = xgb.XGBClassifier(n_estimators=300,\n",
    "                     subsample=0.9,\n",
    "                            n_jobs=-1)\n",
    "xgb_report = fit_score_clf(xgb_clf, X_train, y_train, X_test, y_test, name='xgb')\n",
    "xgb_report.head()"
   ]
  },
  {
   "cell_type": "code",
   "execution_count": 72,
   "metadata": {},
   "outputs": [],
   "source": [
    "#metrics for XGB Classifier\n",
    "modify_roc_dict(xgb_clf, y_test, X_test, name='XGBoost',dict_modify=roc_dict)\n",
    "modify_prc_dict(clf=xgb_clf,\n",
    "                y_test=y_test,\n",
    "                X_test=X_test,\n",
    "                name='XGBoost',\n",
    "                dict_modify=prc_dict)"
   ]
  },
  {
   "cell_type": "code",
   "execution_count": 73,
   "metadata": {},
   "outputs": [
    {
     "name": "stderr",
     "output_type": "stream",
     "text": [
      "c:\\Users\\kadam\\anaconda3\\envs\\streamlitenv\\Lib\\site-packages\\sklearn\\svm\\_base.py:297: ConvergenceWarning: Solver terminated early (max_iter=400).  Consider pre-processing your data with StandardScaler or MinMaxScaler.\n",
      "  warnings.warn(\n"
     ]
    },
    {
     "data": {
      "text/html": [
       "<div>\n",
       "<style scoped>\n",
       "    .dataframe tbody tr th:only-of-type {\n",
       "        vertical-align: middle;\n",
       "    }\n",
       "\n",
       "    .dataframe tbody tr th {\n",
       "        vertical-align: top;\n",
       "    }\n",
       "\n",
       "    .dataframe thead th {\n",
       "        text-align: right;\n",
       "    }\n",
       "</style>\n",
       "<table border=\"1\" class=\"dataframe\">\n",
       "  <thead>\n",
       "    <tr style=\"text-align: right;\">\n",
       "      <th></th>\n",
       "      <th>0</th>\n",
       "      <th>1</th>\n",
       "      <th>2</th>\n",
       "      <th>accuracy</th>\n",
       "      <th>macro avg</th>\n",
       "      <th>weighted avg</th>\n",
       "      <th>clf</th>\n",
       "    </tr>\n",
       "  </thead>\n",
       "  <tbody>\n",
       "    <tr>\n",
       "      <th>precision</th>\n",
       "      <td>0.019750</td>\n",
       "      <td>0.483998</td>\n",
       "      <td>0.596151</td>\n",
       "      <td>0.4229</td>\n",
       "      <td>0.366633</td>\n",
       "      <td>0.461563</td>\n",
       "      <td>svc</td>\n",
       "    </tr>\n",
       "    <tr>\n",
       "      <th>recall</th>\n",
       "      <td>0.030904</td>\n",
       "      <td>0.208546</td>\n",
       "      <td>0.672139</td>\n",
       "      <td>0.4229</td>\n",
       "      <td>0.303863</td>\n",
       "      <td>0.422900</td>\n",
       "      <td>svc</td>\n",
       "    </tr>\n",
       "    <tr>\n",
       "      <th>f1-score</th>\n",
       "      <td>0.024099</td>\n",
       "      <td>0.291493</td>\n",
       "      <td>0.631868</td>\n",
       "      <td>0.4229</td>\n",
       "      <td>0.315820</td>\n",
       "      <td>0.424720</td>\n",
       "      <td>svc</td>\n",
       "    </tr>\n",
       "    <tr>\n",
       "      <th>support</th>\n",
       "      <td>3527.000000</td>\n",
       "      <td>5874.000000</td>\n",
       "      <td>10599.000000</td>\n",
       "      <td>0.4229</td>\n",
       "      <td>20000.000000</td>\n",
       "      <td>20000.000000</td>\n",
       "      <td>svc</td>\n",
       "    </tr>\n",
       "  </tbody>\n",
       "</table>\n",
       "</div>"
      ],
      "text/plain": [
       "                     0            1             2  accuracy     macro avg  \\\n",
       "precision     0.019750     0.483998      0.596151    0.4229      0.366633   \n",
       "recall        0.030904     0.208546      0.672139    0.4229      0.303863   \n",
       "f1-score      0.024099     0.291493      0.631868    0.4229      0.315820   \n",
       "support    3527.000000  5874.000000  10599.000000    0.4229  20000.000000   \n",
       "\n",
       "           weighted avg  clf  \n",
       "precision      0.461563  svc  \n",
       "recall         0.422900  svc  \n",
       "f1-score       0.424720  svc  \n",
       "support    20000.000000  svc  "
      ]
     },
     "execution_count": 73,
     "metadata": {},
     "output_type": "execute_result"
    }
   ],
   "source": [
    "\n",
    "svc = SVC(C=1.0, kernel='rbf',\n",
    "          gamma='auto', \n",
    "          probability=True,\n",
    "          max_iter=400)\n",
    "\n",
    "svc_report = fit_score_clf(svc, X_train, y_train, X_test, y_test, name='svc')\n",
    "svc_report.head()"
   ]
  },
  {
   "cell_type": "code",
   "execution_count": 74,
   "metadata": {},
   "outputs": [],
   "source": [
    "#metrics for SVC Classifier\n",
    "modify_roc_dict(svc, y_test, X_test, name='SVC',dict_modify=roc_dict)\n",
    "modify_prc_dict(clf=svc,\n",
    "                y_test=y_test,\n",
    "                X_test=X_test,\n",
    "                name='SVC',\n",
    "                dict_modify=prc_dict)"
   ]
  },
  {
   "cell_type": "code",
   "execution_count": 75,
   "metadata": {},
   "outputs": [
    {
     "data": {
      "text/html": [
       "<div>\n",
       "<style scoped>\n",
       "    .dataframe tbody tr th:only-of-type {\n",
       "        vertical-align: middle;\n",
       "    }\n",
       "\n",
       "    .dataframe tbody tr th {\n",
       "        vertical-align: top;\n",
       "    }\n",
       "\n",
       "    .dataframe thead th {\n",
       "        text-align: right;\n",
       "    }\n",
       "</style>\n",
       "<table border=\"1\" class=\"dataframe\">\n",
       "  <thead>\n",
       "    <tr style=\"text-align: right;\">\n",
       "      <th></th>\n",
       "      <th>0</th>\n",
       "      <th>1</th>\n",
       "      <th>2</th>\n",
       "      <th>accuracy</th>\n",
       "      <th>macro avg</th>\n",
       "      <th>weighted avg</th>\n",
       "      <th>clf</th>\n",
       "    </tr>\n",
       "  </thead>\n",
       "  <tbody>\n",
       "    <tr>\n",
       "      <th>precision</th>\n",
       "      <td>0.583236</td>\n",
       "      <td>0.719553</td>\n",
       "      <td>0.861254</td>\n",
       "      <td>0.7413</td>\n",
       "      <td>0.721347</td>\n",
       "      <td>0.770608</td>\n",
       "      <td>knn</td>\n",
       "    </tr>\n",
       "    <tr>\n",
       "      <th>recall</th>\n",
       "      <td>0.846328</td>\n",
       "      <td>0.843888</td>\n",
       "      <td>0.649495</td>\n",
       "      <td>0.7413</td>\n",
       "      <td>0.779904</td>\n",
       "      <td>0.741300</td>\n",
       "      <td>knn</td>\n",
       "    </tr>\n",
       "    <tr>\n",
       "      <th>f1-score</th>\n",
       "      <td>0.690573</td>\n",
       "      <td>0.776777</td>\n",
       "      <td>0.740534</td>\n",
       "      <td>0.7413</td>\n",
       "      <td>0.735961</td>\n",
       "      <td>0.742368</td>\n",
       "      <td>knn</td>\n",
       "    </tr>\n",
       "    <tr>\n",
       "      <th>support</th>\n",
       "      <td>3527.000000</td>\n",
       "      <td>5874.000000</td>\n",
       "      <td>10599.000000</td>\n",
       "      <td>0.7413</td>\n",
       "      <td>20000.000000</td>\n",
       "      <td>20000.000000</td>\n",
       "      <td>knn</td>\n",
       "    </tr>\n",
       "  </tbody>\n",
       "</table>\n",
       "</div>"
      ],
      "text/plain": [
       "                     0            1             2  accuracy     macro avg  \\\n",
       "precision     0.583236     0.719553      0.861254    0.7413      0.721347   \n",
       "recall        0.846328     0.843888      0.649495    0.7413      0.779904   \n",
       "f1-score      0.690573     0.776777      0.740534    0.7413      0.735961   \n",
       "support    3527.000000  5874.000000  10599.000000    0.7413  20000.000000   \n",
       "\n",
       "           weighted avg  clf  \n",
       "precision      0.770608  knn  \n",
       "recall         0.741300  knn  \n",
       "f1-score       0.742368  knn  \n",
       "support    20000.000000  knn  "
      ]
     },
     "execution_count": 75,
     "metadata": {},
     "output_type": "execute_result"
    }
   ],
   "source": [
    "knn = KNeighborsClassifier(n_neighbors =5, n_jobs=-1)\n",
    "\n",
    "knn_report = fit_score_clf(knn, X_train, y_train, X_test, y_test, name='knn')\n",
    "knn_report.head()"
   ]
  },
  {
   "cell_type": "code",
   "execution_count": 76,
   "metadata": {},
   "outputs": [],
   "source": [
    "#metrics for KNN Classifier\n",
    "modify_roc_dict(knn, y_test, X_test, name='KNN',dict_modify=roc_dict)\n",
    "modify_prc_dict(clf=knn,\n",
    "                y_test=y_test,\n",
    "                X_test=X_test,\n",
    "                name='knn',\n",
    "                dict_modify=prc_dict)"
   ]
  },
  {
   "cell_type": "code",
   "execution_count": 77,
   "metadata": {},
   "outputs": [
    {
     "data": {
      "text/html": [
       "<div>\n",
       "<style scoped>\n",
       "    .dataframe tbody tr th:only-of-type {\n",
       "        vertical-align: middle;\n",
       "    }\n",
       "\n",
       "    .dataframe tbody tr th {\n",
       "        vertical-align: top;\n",
       "    }\n",
       "\n",
       "    .dataframe thead th {\n",
       "        text-align: right;\n",
       "    }\n",
       "</style>\n",
       "<table border=\"1\" class=\"dataframe\">\n",
       "  <thead>\n",
       "    <tr style=\"text-align: right;\">\n",
       "      <th></th>\n",
       "      <th>0</th>\n",
       "      <th>1</th>\n",
       "      <th>2</th>\n",
       "      <th>accuracy</th>\n",
       "      <th>macro avg</th>\n",
       "      <th>weighted avg</th>\n",
       "      <th>clf</th>\n",
       "    </tr>\n",
       "  </thead>\n",
       "  <tbody>\n",
       "    <tr>\n",
       "      <th>precision</th>\n",
       "      <td>0.418836</td>\n",
       "      <td>0.615937</td>\n",
       "      <td>0.830362</td>\n",
       "      <td>0.60865</td>\n",
       "      <td>0.621711</td>\n",
       "      <td>0.694813</td>\n",
       "      <td>gnb</td>\n",
       "    </tr>\n",
       "    <tr>\n",
       "      <th>recall</th>\n",
       "      <td>0.848597</td>\n",
       "      <td>0.730337</td>\n",
       "      <td>0.461364</td>\n",
       "      <td>0.60865</td>\n",
       "      <td>0.680099</td>\n",
       "      <td>0.608650</td>\n",
       "      <td>gnb</td>\n",
       "    </tr>\n",
       "    <tr>\n",
       "      <th>f1-score</th>\n",
       "      <td>0.560854</td>\n",
       "      <td>0.668276</td>\n",
       "      <td>0.593159</td>\n",
       "      <td>0.60865</td>\n",
       "      <td>0.607430</td>\n",
       "      <td>0.609524</td>\n",
       "      <td>gnb</td>\n",
       "    </tr>\n",
       "    <tr>\n",
       "      <th>support</th>\n",
       "      <td>3527.000000</td>\n",
       "      <td>5874.000000</td>\n",
       "      <td>10599.000000</td>\n",
       "      <td>0.60865</td>\n",
       "      <td>20000.000000</td>\n",
       "      <td>20000.000000</td>\n",
       "      <td>gnb</td>\n",
       "    </tr>\n",
       "  </tbody>\n",
       "</table>\n",
       "</div>"
      ],
      "text/plain": [
       "                     0            1             2  accuracy     macro avg  \\\n",
       "precision     0.418836     0.615937      0.830362   0.60865      0.621711   \n",
       "recall        0.848597     0.730337      0.461364   0.60865      0.680099   \n",
       "f1-score      0.560854     0.668276      0.593159   0.60865      0.607430   \n",
       "support    3527.000000  5874.000000  10599.000000   0.60865  20000.000000   \n",
       "\n",
       "           weighted avg  clf  \n",
       "precision      0.694813  gnb  \n",
       "recall         0.608650  gnb  \n",
       "f1-score       0.609524  gnb  \n",
       "support    20000.000000  gnb  "
      ]
     },
     "execution_count": 77,
     "metadata": {},
     "output_type": "execute_result"
    }
   ],
   "source": [
    "gnb = GaussianNB(priors=None, var_smoothing=1e-9)\n",
    "\n",
    "gnb_report = fit_score_clf(gnb, X_train, y_train, X_test, y_test, name='gnb')\n",
    "gnb_report.head()"
   ]
  },
  {
   "cell_type": "code",
   "execution_count": 78,
   "metadata": {},
   "outputs": [],
   "source": [
    "#metrics for Gaussian Naive Bayes Classifier   \n",
    "modify_roc_dict(gnb, y_test, X_test, name='Gaussian Naive Bayes',dict_modify=roc_dict)\n",
    "modify_prc_dict(clf=gnb,\n",
    "                y_test=y_test,\n",
    "                X_test=X_test,\n",
    "                name='Gaussian Naive Bayes',\n",
    "                dict_modify=prc_dict)"
   ]
  },
  {
   "cell_type": "code",
   "execution_count": 79,
   "metadata": {},
   "outputs": [
    {
     "data": {
      "text/plain": [
       "dict_keys(['Logistic Regression', 'Decision Tree', 'RandomForest', 'GBTree', 'XGBoost', 'SVC', 'KNN', 'Gaussian Naive Bayes'])"
      ]
     },
     "execution_count": 79,
     "metadata": {},
     "output_type": "execute_result"
    }
   ],
   "source": [
    "#see keys we have\n",
    "roc_dict.keys()"
   ]
  },
  {
   "cell_type": "code",
   "execution_count": 80,
   "metadata": {},
   "outputs": [
    {
     "data": {
      "image/png": "[encoded data removed]",
      "text/plain": [
       "<Figure size 800x550 with 1 Axes>"
      ]
     },
     "metadata": {},
     "output_type": "display_data"
    }
   ],
   "source": [
    "for key in roc_dict:\n",
    "    clf = roc_dict[key]\n",
    "    plt.plot(clf['fpr'], clf['tpr'], label=key)\n",
    "plt.xlabel(\"FPR\")\n",
    "plt.ylabel(\"TPR\")\n",
    "plt.title(\"ROC\")\n",
    "plt.plot([0,1], [0,1], label='No Discrimination', linestyle='-', dashes=(5, 5))\n",
    "plt.legend()\n",
    "plt.show()"
   ]
  },
  {
   "cell_type": "code",
   "execution_count": 81,
   "metadata": {},
   "outputs": [
    {
     "data": {
      "image/png": "[encoded data removed]",
      "text/plain": [
       "<Figure size 800x550 with 1 Axes>"
      ]
     },
     "metadata": {},
     "output_type": "display_data"
    }
   ],
   "source": [
    "for key in prc_dict:\n",
    "    clf = prc_dict[key]\n",
    "    plt.plot(clf['precision'], clf['recall'], label=key)\n",
    "plt.xlabel(\"Precision\")\n",
    "plt.ylabel(\"Recall\")\n",
    "plt.title(\"Precision Recall Curve\")\n",
    "plt.legend()\n",
    "plt.show()"
   ]
  },
  {
   "cell_type": "code",
   "execution_count": 82,
   "metadata": {},
   "outputs": [
    {
     "data": {
      "image/png": "[encoded data removed]",
      "text/plain": [
       "<Figure size 1000x600 with 1 Axes>"
      ]
     },
     "metadata": {},
     "output_type": "display_data"
    }
   ],
   "source": [
    "importances = rf_clf.feature_importances_\n",
    "\n",
    "# Get indices of top features\n",
    "indices = np.argsort(importances)[::-1]\n",
    "\n",
    "# Select top features and their importances\n",
    "top_features = X_train.columns[indices][:10]\n",
    "top_importances = importances[indices][:10]\n",
    "\n",
    "# Plot feature importances\n",
    "plt.figure(figsize=(10, 6))\n",
    "plt.barh(range(len(top_features)), top_importances, align='center')\n",
    "plt.yticks(range(len(top_features)), top_features)\n",
    "plt.xlabel('Feature Importance')\n",
    "plt.title('Top 10 Feature Importances in Random Forest')\n",
    "plt.gca().invert_yaxis()  # Invert y-axis to display most important features on top\n",
    "plt.show()"
   ]
  },
  {
   "cell_type": "code",
   "execution_count": 83,
   "metadata": {},
   "outputs": [],
   "source": [
    "y_pred=rf_clf.predict(X_test)\n",
    "y_prob=rf_clf.predict_proba(X_test)"
   ]
  },
  {
   "cell_type": "code",
   "execution_count": 84,
   "metadata": {},
   "outputs": [
    {
     "name": "stdout",
     "output_type": "stream",
     "text": [
      "[[2841   17  669]\n",
      " [  39 5049  786]\n",
      " [ 853 1282 8464]]\n",
      "              precision    recall  f1-score   support\n",
      "\n",
      "           0       0.76      0.81      0.78      3527\n",
      "           1       0.80      0.86      0.83      5874\n",
      "           2       0.85      0.80      0.83     10599\n",
      "\n",
      "    accuracy                           0.82     20000\n",
      "   macro avg       0.80      0.82      0.81     20000\n",
      "weighted avg       0.82      0.82      0.82     20000\n",
      "\n"
     ]
    }
   ],
   "source": [
    "print(metrics.confusion_matrix(y_test, y_pred))\n",
    "# Printing the precision and recall, among other metrics\n",
    "print(metrics.classification_report(y_test, y_pred))"
   ]
  },
  {
   "cell_type": "code",
   "execution_count": 85,
   "metadata": {},
   "outputs": [
    {
     "name": "stdout",
     "output_type": "stream",
     "text": [
      "AUC: 0.929\n"
     ]
    }
   ],
   "source": [
    "# calculate AUC\n",
    "auc = roc_auc_score(y_test, y_prob, multi_class='ovr')\n",
    "print('AUC: %.3f' % auc)"
   ]
  },
  {
   "cell_type": "code",
   "execution_count": 86,
   "metadata": {},
   "outputs": [
    {
     "name": "stdout",
     "output_type": "stream",
     "text": [
      "accuracy score:  0.8177\n"
     ]
    }
   ],
   "source": [
    "y_pred = rf_clf.predict(X_test)\n",
    "accuracy = accuracy_score(y_test, y_pred)\n",
    "print(\"accuracy score: \", accuracy)"
   ]
  },
  {
   "cell_type": "code",
   "execution_count": 87,
   "metadata": {},
   "outputs": [
    {
     "name": "stdout",
     "output_type": "stream",
     "text": [
      "Saving compressed model at: models/rf_default_params.pkl.gz\n"
     ]
    }
   ],
   "source": [
    "# Define location to save trained model\n",
    "save_model_dir = 'models/rf_default_params.pkl.gz'\n",
    "print(\"Saving compressed model at: {}\".format(save_model_dir))\n",
    "\n",
    "# Save the model\n",
    "with gzip.open(save_model_dir, 'wb') as handle:\n",
    "    pickle.dump(rf_clf, handle, protocol=pickle.HIGHEST_PROTOCOL)"
   ]
  },
  {
   "cell_type": "markdown",
   "metadata": {},
   "source": [
    "# Hyperparameter Tuning"
   ]
  },
  {
   "cell_type": "code",
   "execution_count": 89,
   "metadata": {},
   "outputs": [
    {
     "name": "stdout",
     "output_type": "stream",
     "text": [
      "Best parameters: {'class_weight': None, 'max_depth': None, 'min_samples_leaf': 1, 'min_samples_split': 2, 'n_estimators': 100}\n",
      "ROC AUC: 0.9289467900049025\n",
      "Test set accuracy score:  0.81845\n"
     ]
    }
   ],
   "source": [
    "model = RandomForestClassifier(random_state=42)\n",
    "\n",
    "# Define the grid of hyperparameters to search\n",
    "param_grid = {\n",
    "    'n_estimators': [50,100],  \n",
    "    'max_depth': [None, 5, 10],  \n",
    "    'min_samples_split': [2, 5],  \n",
    "    'min_samples_leaf': [1, 2],  \n",
    "    'class_weight': [None, 'balanced']  \n",
    "}\n",
    "\n",
    "grid_search = GridSearchCV(\n",
    "    estimator=model,\n",
    "    param_grid=param_grid,\n",
    "    scoring='accuracy', \n",
    "    error_score='raise',\n",
    "    cv=5,\n",
    "    n_jobs=-1\n",
    ")\n",
    "\n",
    "\n",
    "grid_search.fit(X_train, y_train)\n",
    "\n",
    "# Print the best parameters\n",
    "print(\"Best parameters:\", grid_search.best_params_)\n",
    "\n",
    "# Evaluate the best model\n",
    "best_model = grid_search.best_estimator_\n",
    "y_pred_proba = best_model.predict_proba(X_test)\n",
    "roc_auc = roc_auc_score(y_test, y_pred_proba, multi_class='ovr', average='macro')\n",
    "print(\"ROC AUC:\", roc_auc)\n",
    "\n",
    "y_pred_cv = best_model.predict(X_test)\n",
    "accuracy = accuracy_score(y_test, y_pred_cv)\n",
    "print(\"Test set accuracy score: \", accuracy)\n"
   ]
  },
  {
   "cell_type": "code",
   "execution_count": 90,
   "metadata": {},
   "outputs": [
    {
     "name": "stdout",
     "output_type": "stream",
     "text": [
      "Best model parameters: \n",
      "\n",
      "{'class_weight': None, 'max_depth': None, 'min_samples_leaf': 1, 'min_samples_split': 2, 'n_estimators': 100}\n",
      "Best model score: \n",
      "\n",
      "0.8740653748287336\n"
     ]
    }
   ],
   "source": [
    "print(\"Best model parameters: \\n\")\n",
    "print(grid_search.best_params_ )\n",
    "print(\"Best model score: \\n\")\n",
    "print(grid_search.best_score_)"
   ]
  },
  {
   "cell_type": "code",
   "execution_count": 91,
   "metadata": {},
   "outputs": [
    {
     "data": {
      "text/plain": [
       "({'class_weight': None,\n",
       "  'max_depth': None,\n",
       "  'min_samples_leaf': 1,\n",
       "  'min_samples_split': 2,\n",
       "  'n_estimators': 100},\n",
       " 0.8740653748287336)"
      ]
     },
     "execution_count": 91,
     "metadata": {},
     "output_type": "execute_result"
    }
   ],
   "source": [
    "best_params_rf = grid_search.best_params_\n",
    "\n",
    "best_params_rf, grid_search.best_score_"
   ]
  },
  {
   "cell_type": "code",
   "execution_count": 92,
   "metadata": {},
   "outputs": [
    {
     "data": {
      "text/plain": [
       "array([[2847,   20,  660],\n",
       "       [  39, 5046,  789],\n",
       "       [ 851, 1272, 8476]], dtype=int64)"
      ]
     },
     "execution_count": 92,
     "metadata": {},
     "output_type": "execute_result"
    }
   ],
   "source": [
    "y_pred_cv = grid_search.predict(X_test)\n",
    "confusion_matrix(y_test, y_pred_cv)\n",
    "\n"
   ]
  },
  {
   "cell_type": "code",
   "execution_count": 93,
   "metadata": {},
   "outputs": [
    {
     "data": {
      "image/png": "[encoded data removed]",
      "text/plain": [
       "<Figure size 800x600 with 2 Axes>"
      ]
     },
     "metadata": {},
     "output_type": "display_data"
    }
   ],
   "source": [
    "\n",
    "cm = confusion_matrix(y_test, y_pred_cv)\n",
    "\n",
    "plt.figure(figsize=(8, 6))\n",
    "sns.heatmap(cm, annot=True, fmt=\"d\", cmap=\"Blues\", xticklabels=grid_search.classes_, yticklabels=grid_search.classes_)\n",
    "plt.xlabel(\"Predicted Class\")\n",
    "plt.ylabel(\"True Class\")\n",
    "plt.title(f\"Confusion Matrix\\nAccuracy: {accuracy:.2f}\")\n",
    "plt.show()\n"
   ]
  },
  {
   "cell_type": "code",
   "execution_count": 94,
   "metadata": {},
   "outputs": [
    {
     "data": {
      "image/png": "[encoded data removed]",
      "text/plain": [
       "<Figure size 800x550 with 1 Axes>"
      ]
     },
     "metadata": {},
     "output_type": "display_data"
    }
   ],
   "source": [
    "\n",
    "\n",
    "fpr, tpr, thresholds = roc_curve(y_test,\n",
    "                                 grid_search.predict_proba(X_test)[:,1],\n",
    "                                 pos_label=1)\n",
    "\n",
    "\n",
    "plt.plot(fpr, tpr, label='Random Forest')\n",
    "plt.plot([0,1], [0,1], label='No Discrimination', linestyle='-', dashes=(5, 5))\n",
    "plt.show()\n"
   ]
  },
  {
   "cell_type": "code",
   "execution_count": 95,
   "metadata": {},
   "outputs": [
    {
     "name": "stdout",
     "output_type": "stream",
     "text": [
      "f1_rf (binary): 0.8186658858610328\n",
      "\n",
      "              precision    recall  f1-score   support\n",
      "\n",
      "           0       0.76      0.81      0.78      3527\n",
      "           1       0.80      0.86      0.83      5874\n",
      "           2       0.85      0.80      0.83     10599\n",
      "\n",
      "    accuracy                           0.82     20000\n",
      "   macro avg       0.80      0.82      0.81     20000\n",
      "weighted avg       0.82      0.82      0.82     20000\n",
      "\n"
     ]
    }
   ],
   "source": [
    "\n",
    "\n",
    "f1_rf = f1_score(y_test, y_pred_cv,  average='weighted')\n",
    "\n",
    "print(\"f1_rf (binary): {}\\n\".format(f1_rf))\n",
    "print(classification_report(y_test,y_pred_cv))"
   ]
  },
  {
   "cell_type": "markdown",
   "metadata": {},
   "source": [
    " # Keeping only 10 features to predict the Credit Score"
   ]
  },
  {
   "cell_type": "code",
   "execution_count": 96,
   "metadata": {},
   "outputs": [
    {
     "data": {
      "image/png": "[encoded data removed]",
      "text/plain": [
       "<Figure size 800x550 with 1 Axes>"
      ]
     },
     "metadata": {},
     "output_type": "display_data"
    },
    {
     "name": "stdout",
     "output_type": "stream",
     "text": [
      "['Monthly_Inhand_Salary' 'Amount_invested_monthly' 'Monthly_Balance'\n",
      " 'Delay_from_due_date' 'Changed_Credit_Limit' 'Credit_History_Age'\n",
      " 'Credit_Mix' 'Interest_Rate' 'Outstanding_Debt']\n"
     ]
    }
   ],
   "source": [
    "model_rf = RandomForestClassifier(random_state=42, **best_params_rf)\n",
    "\n",
    "# Plot feature importances\n",
    "viz = feature_importances(model, X_test, y_test, relative=False, topn=9)\n",
    "\n",
    "# get top 8 features\n",
    "print(viz.features_)"
   ]
  },
  {
   "cell_type": "code",
   "execution_count": 97,
   "metadata": {},
   "outputs": [
    {
     "data": {
      "text/html": [
       "<div>\n",
       "<style scoped>\n",
       "    .dataframe tbody tr th:only-of-type {\n",
       "        vertical-align: middle;\n",
       "    }\n",
       "\n",
       "    .dataframe tbody tr th {\n",
       "        vertical-align: top;\n",
       "    }\n",
       "\n",
       "    .dataframe thead th {\n",
       "        text-align: right;\n",
       "    }\n",
       "</style>\n",
       "<table border=\"1\" class=\"dataframe\">\n",
       "  <thead>\n",
       "    <tr style=\"text-align: right;\">\n",
       "      <th></th>\n",
       "      <th>Monthly_Inhand_Salary</th>\n",
       "      <th>Amount_invested_monthly</th>\n",
       "      <th>Monthly_Balance</th>\n",
       "      <th>Delay_from_due_date</th>\n",
       "      <th>Changed_Credit_Limit</th>\n",
       "      <th>Credit_History_Age</th>\n",
       "      <th>Credit_Mix</th>\n",
       "      <th>Interest_Rate</th>\n",
       "      <th>Outstanding_Debt</th>\n",
       "      <th>Credit_Score</th>\n",
       "    </tr>\n",
       "  </thead>\n",
       "  <tbody>\n",
       "    <tr>\n",
       "      <th>0</th>\n",
       "      <td>1824.843333</td>\n",
       "      <td>21.465380</td>\n",
       "      <td>312.494089</td>\n",
       "      <td>3</td>\n",
       "      <td>11.27</td>\n",
       "      <td>265</td>\n",
       "      <td>Good</td>\n",
       "      <td>3.0</td>\n",
       "      <td>809.98</td>\n",
       "      <td>Good</td>\n",
       "    </tr>\n",
       "    <tr>\n",
       "      <th>1</th>\n",
       "      <td>1824.843333</td>\n",
       "      <td>21.465380</td>\n",
       "      <td>284.629163</td>\n",
       "      <td>3</td>\n",
       "      <td>11.27</td>\n",
       "      <td>266</td>\n",
       "      <td>Good</td>\n",
       "      <td>3.0</td>\n",
       "      <td>809.98</td>\n",
       "      <td>Good</td>\n",
       "    </tr>\n",
       "    <tr>\n",
       "      <th>2</th>\n",
       "      <td>1824.843333</td>\n",
       "      <td>21.465380</td>\n",
       "      <td>331.209863</td>\n",
       "      <td>3</td>\n",
       "      <td>11.27</td>\n",
       "      <td>267</td>\n",
       "      <td>Good</td>\n",
       "      <td>3.0</td>\n",
       "      <td>809.98</td>\n",
       "      <td>Good</td>\n",
       "    </tr>\n",
       "    <tr>\n",
       "      <th>3</th>\n",
       "      <td>1824.843333</td>\n",
       "      <td>21.465380</td>\n",
       "      <td>223.451310</td>\n",
       "      <td>5</td>\n",
       "      <td>6.27</td>\n",
       "      <td>268</td>\n",
       "      <td>Good</td>\n",
       "      <td>3.0</td>\n",
       "      <td>809.98</td>\n",
       "      <td>Good</td>\n",
       "    </tr>\n",
       "    <tr>\n",
       "      <th>4</th>\n",
       "      <td>1824.843333</td>\n",
       "      <td>21.465380</td>\n",
       "      <td>341.489231</td>\n",
       "      <td>6</td>\n",
       "      <td>11.27</td>\n",
       "      <td>269</td>\n",
       "      <td>Good</td>\n",
       "      <td>3.0</td>\n",
       "      <td>809.98</td>\n",
       "      <td>Good</td>\n",
       "    </tr>\n",
       "    <tr>\n",
       "      <th>...</th>\n",
       "      <td>...</td>\n",
       "      <td>...</td>\n",
       "      <td>...</td>\n",
       "      <td>...</td>\n",
       "      <td>...</td>\n",
       "      <td>...</td>\n",
       "      <td>...</td>\n",
       "      <td>...</td>\n",
       "      <td>...</td>\n",
       "      <td>...</td>\n",
       "    </tr>\n",
       "    <tr>\n",
       "      <th>99995</th>\n",
       "      <td>3359.415833</td>\n",
       "      <td>24.028477</td>\n",
       "      <td>479.866228</td>\n",
       "      <td>23</td>\n",
       "      <td>11.50</td>\n",
       "      <td>378</td>\n",
       "      <td>Good</td>\n",
       "      <td>7.0</td>\n",
       "      <td>502.38</td>\n",
       "      <td>Poor</td>\n",
       "    </tr>\n",
       "    <tr>\n",
       "      <th>99996</th>\n",
       "      <td>3359.415833</td>\n",
       "      <td>24.028477</td>\n",
       "      <td>496.651610</td>\n",
       "      <td>18</td>\n",
       "      <td>11.50</td>\n",
       "      <td>379</td>\n",
       "      <td>Good</td>\n",
       "      <td>7.0</td>\n",
       "      <td>502.38</td>\n",
       "      <td>Poor</td>\n",
       "    </tr>\n",
       "    <tr>\n",
       "      <th>99997</th>\n",
       "      <td>3359.415833</td>\n",
       "      <td>24.028477</td>\n",
       "      <td>516.809083</td>\n",
       "      <td>27</td>\n",
       "      <td>11.50</td>\n",
       "      <td>380</td>\n",
       "      <td>Good</td>\n",
       "      <td>7.0</td>\n",
       "      <td>502.38</td>\n",
       "      <td>Poor</td>\n",
       "    </tr>\n",
       "    <tr>\n",
       "      <th>99998</th>\n",
       "      <td>3359.415833</td>\n",
       "      <td>24.028477</td>\n",
       "      <td>319.164979</td>\n",
       "      <td>20</td>\n",
       "      <td>11.50</td>\n",
       "      <td>381</td>\n",
       "      <td>Good</td>\n",
       "      <td>7.0</td>\n",
       "      <td>502.38</td>\n",
       "      <td>Standard</td>\n",
       "    </tr>\n",
       "    <tr>\n",
       "      <th>99999</th>\n",
       "      <td>3359.415833</td>\n",
       "      <td>24.028477</td>\n",
       "      <td>393.673696</td>\n",
       "      <td>18</td>\n",
       "      <td>11.50</td>\n",
       "      <td>382</td>\n",
       "      <td>Good</td>\n",
       "      <td>7.0</td>\n",
       "      <td>502.38</td>\n",
       "      <td>Poor</td>\n",
       "    </tr>\n",
       "  </tbody>\n",
       "</table>\n",
       "<p>100000 rows × 10 columns</p>\n",
       "</div>"
      ],
      "text/plain": [
       "       Monthly_Inhand_Salary  Amount_invested_monthly  Monthly_Balance  \\\n",
       "0                1824.843333                21.465380       312.494089   \n",
       "1                1824.843333                21.465380       284.629163   \n",
       "2                1824.843333                21.465380       331.209863   \n",
       "3                1824.843333                21.465380       223.451310   \n",
       "4                1824.843333                21.465380       341.489231   \n",
       "...                      ...                      ...              ...   \n",
       "99995            3359.415833                24.028477       479.866228   \n",
       "99996            3359.415833                24.028477       496.651610   \n",
       "99997            3359.415833                24.028477       516.809083   \n",
       "99998            3359.415833                24.028477       319.164979   \n",
       "99999            3359.415833                24.028477       393.673696   \n",
       "\n",
       "       Delay_from_due_date  Changed_Credit_Limit  Credit_History_Age  \\\n",
       "0                        3                 11.27                 265   \n",
       "1                        3                 11.27                 266   \n",
       "2                        3                 11.27                 267   \n",
       "3                        5                  6.27                 268   \n",
       "4                        6                 11.27                 269   \n",
       "...                    ...                   ...                 ...   \n",
       "99995                   23                 11.50                 378   \n",
       "99996                   18                 11.50                 379   \n",
       "99997                   27                 11.50                 380   \n",
       "99998                   20                 11.50                 381   \n",
       "99999                   18                 11.50                 382   \n",
       "\n",
       "      Credit_Mix  Interest_Rate  Outstanding_Debt Credit_Score  \n",
       "0           Good            3.0            809.98         Good  \n",
       "1           Good            3.0            809.98         Good  \n",
       "2           Good            3.0            809.98         Good  \n",
       "3           Good            3.0            809.98         Good  \n",
       "4           Good            3.0            809.98         Good  \n",
       "...          ...            ...               ...          ...  \n",
       "99995       Good            7.0            502.38         Poor  \n",
       "99996       Good            7.0            502.38         Poor  \n",
       "99997       Good            7.0            502.38         Poor  \n",
       "99998       Good            7.0            502.38     Standard  \n",
       "99999       Good            7.0            502.38         Poor  \n",
       "\n",
       "[100000 rows x 10 columns]"
      ]
     },
     "execution_count": 97,
     "metadata": {},
     "output_type": "execute_result"
    }
   ],
   "source": [
    "# we selected 9 features for final model\n",
    "df_final = df[viz.features_.tolist() + ['Credit_Score']]\n",
    "df_final"
   ]
  },
  {
   "cell_type": "code",
   "execution_count": 98,
   "metadata": {},
   "outputs": [
    {
     "name": "stdout",
     "output_type": "stream",
     "text": [
      "<class 'pandas.core.frame.DataFrame'>\n",
      "RangeIndex: 100000 entries, 0 to 99999\n",
      "Data columns (total 10 columns):\n",
      " #   Column                   Non-Null Count   Dtype  \n",
      "---  ------                   --------------   -----  \n",
      " 0   Monthly_Inhand_Salary    100000 non-null  float64\n",
      " 1   Amount_invested_monthly  100000 non-null  float64\n",
      " 2   Monthly_Balance          100000 non-null  float64\n",
      " 3   Delay_from_due_date      100000 non-null  int64  \n",
      " 4   Changed_Credit_Limit     100000 non-null  float64\n",
      " 5   Credit_History_Age       100000 non-null  int64  \n",
      " 6   Credit_Mix               100000 non-null  object \n",
      " 7   Interest_Rate            100000 non-null  float64\n",
      " 8   Outstanding_Debt         100000 non-null  float64\n",
      " 9   Credit_Score             100000 non-null  object \n",
      "dtypes: float64(6), int64(2), object(2)\n",
      "memory usage: 7.6+ MB\n"
     ]
    }
   ],
   "source": [
    "df_final.info()"
   ]
  },
  {
   "cell_type": "code",
   "execution_count": 99,
   "metadata": {},
   "outputs": [],
   "source": [
    "X = df_final.drop(columns='Credit_Score')\n",
    "y = df_final['Credit_Score']"
   ]
  },
  {
   "cell_type": "code",
   "execution_count": 100,
   "metadata": {},
   "outputs": [
    {
     "name": "stdout",
     "output_type": "stream",
     "text": [
      "OrdinalEncoder: ['Credit_Mix']\n"
     ]
    },
    {
     "data": {
      "text/plain": [
       "(100000, 9)"
      ]
     },
     "execution_count": 100,
     "metadata": {},
     "output_type": "execute_result"
    }
   ],
   "source": [
    "cat = X.select_dtypes(include=\"object\").columns.to_list()     \n",
    "print('OrdinalEncoder:', cat)  \n",
    "enc = OrdinalEncoder(handle_unknown='use_encoded_value', unknown_value=-1)\n",
    "\n",
    "X_enc      = X.copy()\n",
    "X_enc[cat] = enc.fit_transform(X_enc[cat])\n",
    "\n",
    "X_enc.shape"
   ]
  },
  {
   "cell_type": "code",
   "execution_count": 101,
   "metadata": {},
   "outputs": [],
   "source": [
    "le = LabelEncoder()\n",
    "y  = le.fit_transform(y)"
   ]
  },
  {
   "cell_type": "code",
   "execution_count": 102,
   "metadata": {},
   "outputs": [],
   "source": [
    "smote = SMOTE(random_state=42)\n",
    "X_enc, y = smote.fit_resample(X_enc, y)"
   ]
  },
  {
   "cell_type": "code",
   "execution_count": 103,
   "metadata": {},
   "outputs": [],
   "source": [
    "final_model = RandomForestClassifier(random_state=42, **best_params_rf)"
   ]
  },
  {
   "cell_type": "code",
   "execution_count": 104,
   "metadata": {},
   "outputs": [
    {
     "data": {
      "text/html": [
       "<style>#sk-container-id-1 {\n",
       "  /* Definition of color scheme common for light and dark mode */\n",
       "  --sklearn-color-text: black;\n",
       "  --sklearn-color-line: gray;\n",
       "  /* Definition of color scheme for unfitted estimators */\n",
       "  --sklearn-color-unfitted-level-0: #fff5e6;\n",
       "  --sklearn-color-unfitted-level-1: #f6e4d2;\n",
       "  --sklearn-color-unfitted-level-2: #ffe0b3;\n",
       "  --sklearn-color-unfitted-level-3: chocolate;\n",
       "  /* Definition of color scheme for fitted estimators */\n",
       "  --sklearn-color-fitted-level-0: #f0f8ff;\n",
       "  --sklearn-color-fitted-level-1: #d4ebff;\n",
       "  --sklearn-color-fitted-level-2: #b3dbfd;\n",
       "  --sklearn-color-fitted-level-3: cornflowerblue;\n",
       "\n",
       "  /* Specific color for light theme */\n",
       "  --sklearn-color-text-on-default-background: var(--sg-text-color, var(--theme-code-foreground, var(--jp-content-font-color1, black)));\n",
       "  --sklearn-color-background: var(--sg-background-color, var(--theme-background, var(--jp-layout-color0, white)));\n",
       "  --sklearn-color-border-box: var(--sg-text-color, var(--theme-code-foreground, var(--jp-content-font-color1, black)));\n",
       "  --sklearn-color-icon: #696969;\n",
       "\n",
       "  @media (prefers-color-scheme: dark) {\n",
       "    /* Redefinition of color scheme for dark theme */\n",
       "    --sklearn-color-text-on-default-background: var(--sg-text-color, var(--theme-code-foreground, var(--jp-content-font-color1, white)));\n",
       "    --sklearn-color-background: var(--sg-background-color, var(--theme-background, var(--jp-layout-color0, #111)));\n",
       "    --sklearn-color-border-box: var(--sg-text-color, var(--theme-code-foreground, var(--jp-content-font-color1, white)));\n",
       "    --sklearn-color-icon: #878787;\n",
       "  }\n",
       "}\n",
       "\n",
       "#sk-container-id-1 {\n",
       "  color: var(--sklearn-color-text);\n",
       "}\n",
       "\n",
       "#sk-container-id-1 pre {\n",
       "  padding: 0;\n",
       "}\n",
       "\n",
       "#sk-container-id-1 input.sk-hidden--visually {\n",
       "  border: 0;\n",
       "  clip: rect(1px 1px 1px 1px);\n",
       "  clip: rect(1px, 1px, 1px, 1px);\n",
       "  height: 1px;\n",
       "  margin: -1px;\n",
       "  overflow: hidden;\n",
       "  padding: 0;\n",
       "  position: absolute;\n",
       "  width: 1px;\n",
       "}\n",
       "\n",
       "#sk-container-id-1 div.sk-dashed-wrapped {\n",
       "  border: 1px dashed var(--sklearn-color-line);\n",
       "  margin: 0 0.4em 0.5em 0.4em;\n",
       "  box-sizing: border-box;\n",
       "  padding-bottom: 0.4em;\n",
       "  background-color: var(--sklearn-color-background);\n",
       "}\n",
       "\n",
       "#sk-container-id-1 div.sk-container {\n",
       "  /* jupyter's `normalize.less` sets `[hidden] { display: none; }`\n",
       "     but bootstrap.min.css set `[hidden] { display: none !important; }`\n",
       "     so we also need the `!important` here to be able to override the\n",
       "     default hidden behavior on the sphinx rendered scikit-learn.org.\n",
       "     See: https://github.com/scikit-learn/scikit-learn/issues/21755 */\n",
       "  display: inline-block !important;\n",
       "  position: relative;\n",
       "}\n",
       "\n",
       "#sk-container-id-1 div.sk-text-repr-fallback {\n",
       "  display: none;\n",
       "}\n",
       "\n",
       "div.sk-parallel-item,\n",
       "div.sk-serial,\n",
       "div.sk-item {\n",
       "  /* draw centered vertical line to link estimators */\n",
       "  background-image: linear-gradient(var(--sklearn-color-text-on-default-background), var(--sklearn-color-text-on-default-background));\n",
       "  background-size: 2px 100%;\n",
       "  background-repeat: no-repeat;\n",
       "  background-position: center center;\n",
       "}\n",
       "\n",
       "/* Parallel-specific style estimator block */\n",
       "\n",
       "#sk-container-id-1 div.sk-parallel-item::after {\n",
       "  content: \"\";\n",
       "  width: 100%;\n",
       "  border-bottom: 2px solid var(--sklearn-color-text-on-default-background);\n",
       "  flex-grow: 1;\n",
       "}\n",
       "\n",
       "#sk-container-id-1 div.sk-parallel {\n",
       "  display: flex;\n",
       "  align-items: stretch;\n",
       "  justify-content: center;\n",
       "  background-color: var(--sklearn-color-background);\n",
       "  position: relative;\n",
       "}\n",
       "\n",
       "#sk-container-id-1 div.sk-parallel-item {\n",
       "  display: flex;\n",
       "  flex-direction: column;\n",
       "}\n",
       "\n",
       "#sk-container-id-1 div.sk-parallel-item:first-child::after {\n",
       "  align-self: flex-end;\n",
       "  width: 50%;\n",
       "}\n",
       "\n",
       "#sk-container-id-1 div.sk-parallel-item:last-child::after {\n",
       "  align-self: flex-start;\n",
       "  width: 50%;\n",
       "}\n",
       "\n",
       "#sk-container-id-1 div.sk-parallel-item:only-child::after {\n",
       "  width: 0;\n",
       "}\n",
       "\n",
       "/* Serial-specific style estimator block */\n",
       "\n",
       "#sk-container-id-1 div.sk-serial {\n",
       "  display: flex;\n",
       "  flex-direction: column;\n",
       "  align-items: center;\n",
       "  background-color: var(--sklearn-color-background);\n",
       "  padding-right: 1em;\n",
       "  padding-left: 1em;\n",
       "}\n",
       "\n",
       "\n",
       "/* Toggleable style: style used for estimator/Pipeline/ColumnTransformer box that is\n",
       "clickable and can be expanded/collapsed.\n",
       "- Pipeline and ColumnTransformer use this feature and define the default style\n",
       "- Estimators will overwrite some part of the style using the `sk-estimator` class\n",
       "*/\n",
       "\n",
       "/* Pipeline and ColumnTransformer style (default) */\n",
       "\n",
       "#sk-container-id-1 div.sk-toggleable {\n",
       "  /* Default theme specific background. It is overwritten whether we have a\n",
       "  specific estimator or a Pipeline/ColumnTransformer */\n",
       "  background-color: var(--sklearn-color-background);\n",
       "}\n",
       "\n",
       "/* Toggleable label */\n",
       "#sk-container-id-1 label.sk-toggleable__label {\n",
       "  cursor: pointer;\n",
       "  display: block;\n",
       "  width: 100%;\n",
       "  margin-bottom: 0;\n",
       "  padding: 0.5em;\n",
       "  box-sizing: border-box;\n",
       "  text-align: center;\n",
       "}\n",
       "\n",
       "#sk-container-id-1 label.sk-toggleable__label-arrow:before {\n",
       "  /* Arrow on the left of the label */\n",
       "  content: \"▸\";\n",
       "  float: left;\n",
       "  margin-right: 0.25em;\n",
       "  color: var(--sklearn-color-icon);\n",
       "}\n",
       "\n",
       "#sk-container-id-1 label.sk-toggleable__label-arrow:hover:before {\n",
       "  color: var(--sklearn-color-text);\n",
       "}\n",
       "\n",
       "/* Toggleable content - dropdown */\n",
       "\n",
       "#sk-container-id-1 div.sk-toggleable__content {\n",
       "  max-height: 0;\n",
       "  max-width: 0;\n",
       "  overflow: hidden;\n",
       "  text-align: left;\n",
       "  /* unfitted */\n",
       "  background-color: var(--sklearn-color-unfitted-level-0);\n",
       "}\n",
       "\n",
       "#sk-container-id-1 div.sk-toggleable__content.fitted {\n",
       "  /* fitted */\n",
       "  background-color: var(--sklearn-color-fitted-level-0);\n",
       "}\n",
       "\n",
       "#sk-container-id-1 div.sk-toggleable__content pre {\n",
       "  margin: 0.2em;\n",
       "  border-radius: 0.25em;\n",
       "  color: var(--sklearn-color-text);\n",
       "  /* unfitted */\n",
       "  background-color: var(--sklearn-color-unfitted-level-0);\n",
       "}\n",
       "\n",
       "#sk-container-id-1 div.sk-toggleable__content.fitted pre {\n",
       "  /* unfitted */\n",
       "  background-color: var(--sklearn-color-fitted-level-0);\n",
       "}\n",
       "\n",
       "#sk-container-id-1 input.sk-toggleable__control:checked~div.sk-toggleable__content {\n",
       "  /* Expand drop-down */\n",
       "  max-height: 200px;\n",
       "  max-width: 100%;\n",
       "  overflow: auto;\n",
       "}\n",
       "\n",
       "#sk-container-id-1 input.sk-toggleable__control:checked~label.sk-toggleable__label-arrow:before {\n",
       "  content: \"▾\";\n",
       "}\n",
       "\n",
       "/* Pipeline/ColumnTransformer-specific style */\n",
       "\n",
       "#sk-container-id-1 div.sk-label input.sk-toggleable__control:checked~label.sk-toggleable__label {\n",
       "  color: var(--sklearn-color-text);\n",
       "  background-color: var(--sklearn-color-unfitted-level-2);\n",
       "}\n",
       "\n",
       "#sk-container-id-1 div.sk-label.fitted input.sk-toggleable__control:checked~label.sk-toggleable__label {\n",
       "  background-color: var(--sklearn-color-fitted-level-2);\n",
       "}\n",
       "\n",
       "/* Estimator-specific style */\n",
       "\n",
       "/* Colorize estimator box */\n",
       "#sk-container-id-1 div.sk-estimator input.sk-toggleable__control:checked~label.sk-toggleable__label {\n",
       "  /* unfitted */\n",
       "  background-color: var(--sklearn-color-unfitted-level-2);\n",
       "}\n",
       "\n",
       "#sk-container-id-1 div.sk-estimator.fitted input.sk-toggleable__control:checked~label.sk-toggleable__label {\n",
       "  /* fitted */\n",
       "  background-color: var(--sklearn-color-fitted-level-2);\n",
       "}\n",
       "\n",
       "#sk-container-id-1 div.sk-label label.sk-toggleable__label,\n",
       "#sk-container-id-1 div.sk-label label {\n",
       "  /* The background is the default theme color */\n",
       "  color: var(--sklearn-color-text-on-default-background);\n",
       "}\n",
       "\n",
       "/* On hover, darken the color of the background */\n",
       "#sk-container-id-1 div.sk-label:hover label.sk-toggleable__label {\n",
       "  color: var(--sklearn-color-text);\n",
       "  background-color: var(--sklearn-color-unfitted-level-2);\n",
       "}\n",
       "\n",
       "/* Label box, darken color on hover, fitted */\n",
       "#sk-container-id-1 div.sk-label.fitted:hover label.sk-toggleable__label.fitted {\n",
       "  color: var(--sklearn-color-text);\n",
       "  background-color: var(--sklearn-color-fitted-level-2);\n",
       "}\n",
       "\n",
       "/* Estimator label */\n",
       "\n",
       "#sk-container-id-1 div.sk-label label {\n",
       "  font-family: monospace;\n",
       "  font-weight: bold;\n",
       "  display: inline-block;\n",
       "  line-height: 1.2em;\n",
       "}\n",
       "\n",
       "#sk-container-id-1 div.sk-label-container {\n",
       "  text-align: center;\n",
       "}\n",
       "\n",
       "/* Estimator-specific */\n",
       "#sk-container-id-1 div.sk-estimator {\n",
       "  font-family: monospace;\n",
       "  border: 1px dotted var(--sklearn-color-border-box);\n",
       "  border-radius: 0.25em;\n",
       "  box-sizing: border-box;\n",
       "  margin-bottom: 0.5em;\n",
       "  /* unfitted */\n",
       "  background-color: var(--sklearn-color-unfitted-level-0);\n",
       "}\n",
       "\n",
       "#sk-container-id-1 div.sk-estimator.fitted {\n",
       "  /* fitted */\n",
       "  background-color: var(--sklearn-color-fitted-level-0);\n",
       "}\n",
       "\n",
       "/* on hover */\n",
       "#sk-container-id-1 div.sk-estimator:hover {\n",
       "  /* unfitted */\n",
       "  background-color: var(--sklearn-color-unfitted-level-2);\n",
       "}\n",
       "\n",
       "#sk-container-id-1 div.sk-estimator.fitted:hover {\n",
       "  /* fitted */\n",
       "  background-color: var(--sklearn-color-fitted-level-2);\n",
       "}\n",
       "\n",
       "/* Specification for estimator info (e.g. \"i\" and \"?\") */\n",
       "\n",
       "/* Common style for \"i\" and \"?\" */\n",
       "\n",
       ".sk-estimator-doc-link,\n",
       "a:link.sk-estimator-doc-link,\n",
       "a:visited.sk-estimator-doc-link {\n",
       "  float: right;\n",
       "  font-size: smaller;\n",
       "  line-height: 1em;\n",
       "  font-family: monospace;\n",
       "  background-color: var(--sklearn-color-background);\n",
       "  border-radius: 1em;\n",
       "  height: 1em;\n",
       "  width: 1em;\n",
       "  text-decoration: none !important;\n",
       "  margin-left: 1ex;\n",
       "  /* unfitted */\n",
       "  border: var(--sklearn-color-unfitted-level-1) 1pt solid;\n",
       "  color: var(--sklearn-color-unfitted-level-1);\n",
       "}\n",
       "\n",
       ".sk-estimator-doc-link.fitted,\n",
       "a:link.sk-estimator-doc-link.fitted,\n",
       "a:visited.sk-estimator-doc-link.fitted {\n",
       "  /* fitted */\n",
       "  border: var(--sklearn-color-fitted-level-1) 1pt solid;\n",
       "  color: var(--sklearn-color-fitted-level-1);\n",
       "}\n",
       "\n",
       "/* On hover */\n",
       "div.sk-estimator:hover .sk-estimator-doc-link:hover,\n",
       ".sk-estimator-doc-link:hover,\n",
       "div.sk-label-container:hover .sk-estimator-doc-link:hover,\n",
       ".sk-estimator-doc-link:hover {\n",
       "  /* unfitted */\n",
       "  background-color: var(--sklearn-color-unfitted-level-3);\n",
       "  color: var(--sklearn-color-background);\n",
       "  text-decoration: none;\n",
       "}\n",
       "\n",
       "div.sk-estimator.fitted:hover .sk-estimator-doc-link.fitted:hover,\n",
       ".sk-estimator-doc-link.fitted:hover,\n",
       "div.sk-label-container:hover .sk-estimator-doc-link.fitted:hover,\n",
       ".sk-estimator-doc-link.fitted:hover {\n",
       "  /* fitted */\n",
       "  background-color: var(--sklearn-color-fitted-level-3);\n",
       "  color: var(--sklearn-color-background);\n",
       "  text-decoration: none;\n",
       "}\n",
       "\n",
       "/* Span, style for the box shown on hovering the info icon */\n",
       ".sk-estimator-doc-link span {\n",
       "  display: none;\n",
       "  z-index: 9999;\n",
       "  position: relative;\n",
       "  font-weight: normal;\n",
       "  right: .2ex;\n",
       "  padding: .5ex;\n",
       "  margin: .5ex;\n",
       "  width: min-content;\n",
       "  min-width: 20ex;\n",
       "  max-width: 50ex;\n",
       "  color: var(--sklearn-color-text);\n",
       "  box-shadow: 2pt 2pt 4pt #999;\n",
       "  /* unfitted */\n",
       "  background: var(--sklearn-color-unfitted-level-0);\n",
       "  border: .5pt solid var(--sklearn-color-unfitted-level-3);\n",
       "}\n",
       "\n",
       ".sk-estimator-doc-link.fitted span {\n",
       "  /* fitted */\n",
       "  background: var(--sklearn-color-fitted-level-0);\n",
       "  border: var(--sklearn-color-fitted-level-3);\n",
       "}\n",
       "\n",
       ".sk-estimator-doc-link:hover span {\n",
       "  display: block;\n",
       "}\n",
       "\n",
       "/* \"?\"-specific style due to the `<a>` HTML tag */\n",
       "\n",
       "#sk-container-id-1 a.estimator_doc_link {\n",
       "  float: right;\n",
       "  font-size: 1rem;\n",
       "  line-height: 1em;\n",
       "  font-family: monospace;\n",
       "  background-color: var(--sklearn-color-background);\n",
       "  border-radius: 1rem;\n",
       "  height: 1rem;\n",
       "  width: 1rem;\n",
       "  text-decoration: none;\n",
       "  /* unfitted */\n",
       "  color: var(--sklearn-color-unfitted-level-1);\n",
       "  border: var(--sklearn-color-unfitted-level-1) 1pt solid;\n",
       "}\n",
       "\n",
       "#sk-container-id-1 a.estimator_doc_link.fitted {\n",
       "  /* fitted */\n",
       "  border: var(--sklearn-color-fitted-level-1) 1pt solid;\n",
       "  color: var(--sklearn-color-fitted-level-1);\n",
       "}\n",
       "\n",
       "/* On hover */\n",
       "#sk-container-id-1 a.estimator_doc_link:hover {\n",
       "  /* unfitted */\n",
       "  background-color: var(--sklearn-color-unfitted-level-3);\n",
       "  color: var(--sklearn-color-background);\n",
       "  text-decoration: none;\n",
       "}\n",
       "\n",
       "#sk-container-id-1 a.estimator_doc_link.fitted:hover {\n",
       "  /* fitted */\n",
       "  background-color: var(--sklearn-color-fitted-level-3);\n",
       "}\n",
       "</style><div id=\"sk-container-id-1\" class=\"sk-top-container\"><div class=\"sk-text-repr-fallback\"><pre>RandomForestClassifier(random_state=42)</pre><b>In a Jupyter environment, please rerun this cell to show the HTML representation or trust the notebook. <br />On GitHub, the HTML representation is unable to render, please try loading this page with nbviewer.org.</b></div><div class=\"sk-container\" hidden><div class=\"sk-item\"><div class=\"sk-estimator fitted sk-toggleable\"><input class=\"sk-toggleable__control sk-hidden--visually\" id=\"sk-estimator-id-1\" type=\"checkbox\" checked><label for=\"sk-estimator-id-1\" class=\"sk-toggleable__label fitted sk-toggleable__label-arrow fitted\">&nbsp;&nbsp;RandomForestClassifier<a class=\"sk-estimator-doc-link fitted\" rel=\"noreferrer\" target=\"_blank\" href=\"https://scikit-learn.org/1.4/modules/generated/sklearn.ensemble.RandomForestClassifier.html\">?<span>Documentation for RandomForestClassifier</span></a><span class=\"sk-estimator-doc-link fitted\">i<span>Fitted</span></span></label><div class=\"sk-toggleable__content fitted\"><pre>RandomForestClassifier(random_state=42)</pre></div> </div></div></div></div>"
      ],
      "text/plain": [
       "RandomForestClassifier(random_state=42)"
      ]
     },
     "execution_count": 104,
     "metadata": {},
     "output_type": "execute_result"
    }
   ],
   "source": [
    "final_model.fit(X_enc, y)"
   ]
  },
  {
   "cell_type": "code",
   "execution_count": 105,
   "metadata": {},
   "outputs": [
    {
     "name": "stdout",
     "output_type": "stream",
     "text": [
      "              precision    recall  f1-score   support\n",
      "\n",
      "           0       1.00      1.00      1.00     53174\n",
      "           1       1.00      1.00      1.00     53174\n",
      "           2       1.00      1.00      1.00     53174\n",
      "\n",
      "    accuracy                           1.00    159522\n",
      "   macro avg       1.00      1.00      1.00    159522\n",
      "weighted avg       1.00      1.00      1.00    159522\n",
      "\n"
     ]
    },
    {
     "data": {
      "text/plain": [
       "<sklearn.metrics._plot.confusion_matrix.ConfusionMatrixDisplay at 0x2020241c750>"
      ]
     },
     "execution_count": 105,
     "metadata": {},
     "output_type": "execute_result"
    },
    {
     "data": {
      "image/png": "[encoded data removed]",
      "text/plain": [
       "<Figure size 800x550 with 2 Axes>"
      ]
     },
     "metadata": {},
     "output_type": "display_data"
    }
   ],
   "source": [
    "sns.set_style(\"whitegrid\", {'axes.grid' : False})\n",
    "from sklearn.metrics import ConfusionMatrixDisplay\n",
    "\n",
    "y_pred = final_model.predict(X_enc)\n",
    "\n",
    "print(classification_report(y, y_pred))\n",
    "ConfusionMatrixDisplay.from_estimator(final_model, X_enc, y)"
   ]
  },
  {
   "cell_type": "code",
   "execution_count": 106,
   "metadata": {},
   "outputs": [
    {
     "data": {
      "text/plain": [
       "array([53176, 53176, 53170], dtype=int64)"
      ]
     },
     "execution_count": 106,
     "metadata": {},
     "output_type": "execute_result"
    }
   ],
   "source": [
    "np.bincount(y_pred)"
   ]
  },
  {
   "cell_type": "code",
   "execution_count": 107,
   "metadata": {},
   "outputs": [
    {
     "data": {
      "text/html": [
       "<div>\n",
       "<style scoped>\n",
       "    .dataframe tbody tr th:only-of-type {\n",
       "        vertical-align: middle;\n",
       "    }\n",
       "\n",
       "    .dataframe tbody tr th {\n",
       "        vertical-align: top;\n",
       "    }\n",
       "\n",
       "    .dataframe thead th {\n",
       "        text-align: right;\n",
       "    }\n",
       "</style>\n",
       "<table border=\"1\" class=\"dataframe\">\n",
       "  <thead>\n",
       "    <tr style=\"text-align: right;\">\n",
       "      <th></th>\n",
       "      <th>Monthly_Inhand_Salary</th>\n",
       "      <th>Amount_invested_monthly</th>\n",
       "      <th>Monthly_Balance</th>\n",
       "      <th>Delay_from_due_date</th>\n",
       "      <th>Changed_Credit_Limit</th>\n",
       "      <th>Credit_History_Age</th>\n",
       "      <th>Credit_Mix</th>\n",
       "      <th>Interest_Rate</th>\n",
       "      <th>Outstanding_Debt</th>\n",
       "    </tr>\n",
       "  </thead>\n",
       "  <tbody>\n",
       "    <tr>\n",
       "      <th>0</th>\n",
       "      <td>1824.843333</td>\n",
       "      <td>21.46538</td>\n",
       "      <td>312.494089</td>\n",
       "      <td>3</td>\n",
       "      <td>11.27</td>\n",
       "      <td>265</td>\n",
       "      <td>Good</td>\n",
       "      <td>3.0</td>\n",
       "      <td>809.98</td>\n",
       "    </tr>\n",
       "    <tr>\n",
       "      <th>1</th>\n",
       "      <td>1824.843333</td>\n",
       "      <td>21.46538</td>\n",
       "      <td>284.629163</td>\n",
       "      <td>3</td>\n",
       "      <td>11.27</td>\n",
       "      <td>266</td>\n",
       "      <td>Good</td>\n",
       "      <td>3.0</td>\n",
       "      <td>809.98</td>\n",
       "    </tr>\n",
       "    <tr>\n",
       "      <th>2</th>\n",
       "      <td>1824.843333</td>\n",
       "      <td>21.46538</td>\n",
       "      <td>331.209863</td>\n",
       "      <td>3</td>\n",
       "      <td>11.27</td>\n",
       "      <td>267</td>\n",
       "      <td>Good</td>\n",
       "      <td>3.0</td>\n",
       "      <td>809.98</td>\n",
       "    </tr>\n",
       "    <tr>\n",
       "      <th>3</th>\n",
       "      <td>1824.843333</td>\n",
       "      <td>21.46538</td>\n",
       "      <td>223.451310</td>\n",
       "      <td>5</td>\n",
       "      <td>6.27</td>\n",
       "      <td>268</td>\n",
       "      <td>Good</td>\n",
       "      <td>3.0</td>\n",
       "      <td>809.98</td>\n",
       "    </tr>\n",
       "    <tr>\n",
       "      <th>4</th>\n",
       "      <td>1824.843333</td>\n",
       "      <td>21.46538</td>\n",
       "      <td>341.489231</td>\n",
       "      <td>6</td>\n",
       "      <td>11.27</td>\n",
       "      <td>269</td>\n",
       "      <td>Good</td>\n",
       "      <td>3.0</td>\n",
       "      <td>809.98</td>\n",
       "    </tr>\n",
       "  </tbody>\n",
       "</table>\n",
       "</div>"
      ],
      "text/plain": [
       "   Monthly_Inhand_Salary  Amount_invested_monthly  Monthly_Balance  \\\n",
       "0            1824.843333                 21.46538       312.494089   \n",
       "1            1824.843333                 21.46538       284.629163   \n",
       "2            1824.843333                 21.46538       331.209863   \n",
       "3            1824.843333                 21.46538       223.451310   \n",
       "4            1824.843333                 21.46538       341.489231   \n",
       "\n",
       "   Delay_from_due_date  Changed_Credit_Limit  Credit_History_Age Credit_Mix  \\\n",
       "0                    3                 11.27                 265       Good   \n",
       "1                    3                 11.27                 266       Good   \n",
       "2                    3                 11.27                 267       Good   \n",
       "3                    5                  6.27                 268       Good   \n",
       "4                    6                 11.27                 269       Good   \n",
       "\n",
       "   Interest_Rate  Outstanding_Debt  \n",
       "0            3.0            809.98  \n",
       "1            3.0            809.98  \n",
       "2            3.0            809.98  \n",
       "3            3.0            809.98  \n",
       "4            3.0            809.98  "
      ]
     },
     "execution_count": 107,
     "metadata": {},
     "output_type": "execute_result"
    }
   ],
   "source": [
    "X.head()"
   ]
  },
  {
   "cell_type": "code",
   "execution_count": 108,
   "metadata": {},
   "outputs": [
    {
     "data": {
      "text/html": [
       "<div>\n",
       "<style scoped>\n",
       "    .dataframe tbody tr th:only-of-type {\n",
       "        vertical-align: middle;\n",
       "    }\n",
       "\n",
       "    .dataframe tbody tr th {\n",
       "        vertical-align: top;\n",
       "    }\n",
       "\n",
       "    .dataframe thead th {\n",
       "        text-align: right;\n",
       "    }\n",
       "</style>\n",
       "<table border=\"1\" class=\"dataframe\">\n",
       "  <thead>\n",
       "    <tr style=\"text-align: right;\">\n",
       "      <th></th>\n",
       "      <th>Credit_Mix</th>\n",
       "    </tr>\n",
       "  </thead>\n",
       "  <tbody>\n",
       "    <tr>\n",
       "      <th>count</th>\n",
       "      <td>100000</td>\n",
       "    </tr>\n",
       "    <tr>\n",
       "      <th>unique</th>\n",
       "      <td>3</td>\n",
       "    </tr>\n",
       "    <tr>\n",
       "      <th>top</th>\n",
       "      <td>Standard</td>\n",
       "    </tr>\n",
       "    <tr>\n",
       "      <th>freq</th>\n",
       "      <td>45848</td>\n",
       "    </tr>\n",
       "  </tbody>\n",
       "</table>\n",
       "</div>"
      ],
      "text/plain": [
       "       Credit_Mix\n",
       "count      100000\n",
       "unique          3\n",
       "top      Standard\n",
       "freq        45848"
      ]
     },
     "execution_count": 108,
     "metadata": {},
     "output_type": "execute_result"
    }
   ],
   "source": [
    "X.describe(include='O')"
   ]
  },
  {
   "cell_type": "code",
   "execution_count": 109,
   "metadata": {},
   "outputs": [
    {
     "data": {
      "text/plain": [
       "{'Monthly_Inhand_Salary': {0: 4197},\n",
       " 'Amount_invested_monthly': {0: 55},\n",
       " 'Monthly_Balance': {0: 392},\n",
       " 'Delay_from_due_date': {0: 21},\n",
       " 'Changed_Credit_Limit': {0: 10},\n",
       " 'Credit_History_Age': {0: 221},\n",
       " 'Interest_Rate': {0: 14},\n",
       " 'Outstanding_Debt': {0: 1426},\n",
       " 'Credit_Mix': {0: 'Standard'}}"
      ]
     },
     "execution_count": 109,
     "metadata": {},
     "output_type": "execute_result"
    }
   ],
   "source": [
    "mean_human = pd.concat([X.select_dtypes('number').mean().astype(int).to_frame().T, X.select_dtypes('object').mode()], axis=1)\n",
    "mean_human.to_dict()"
   ]
  },
  {
   "cell_type": "code",
   "execution_count": 110,
   "metadata": {},
   "outputs": [
    {
     "data": {
      "text/html": [
       "<div>\n",
       "<style scoped>\n",
       "    .dataframe tbody tr th:only-of-type {\n",
       "        vertical-align: middle;\n",
       "    }\n",
       "\n",
       "    .dataframe tbody tr th {\n",
       "        vertical-align: top;\n",
       "    }\n",
       "\n",
       "    .dataframe thead th {\n",
       "        text-align: right;\n",
       "    }\n",
       "</style>\n",
       "<table border=\"1\" class=\"dataframe\">\n",
       "  <thead>\n",
       "    <tr style=\"text-align: right;\">\n",
       "      <th></th>\n",
       "      <th>Monthly_Inhand_Salary</th>\n",
       "      <th>Amount_invested_monthly</th>\n",
       "      <th>Monthly_Balance</th>\n",
       "      <th>Delay_from_due_date</th>\n",
       "      <th>Changed_Credit_Limit</th>\n",
       "      <th>Credit_History_Age</th>\n",
       "      <th>Interest_Rate</th>\n",
       "      <th>Outstanding_Debt</th>\n",
       "      <th>Credit_Mix</th>\n",
       "    </tr>\n",
       "  </thead>\n",
       "  <tbody>\n",
       "    <tr>\n",
       "      <th>0</th>\n",
       "      <td>4197</td>\n",
       "      <td>55</td>\n",
       "      <td>392</td>\n",
       "      <td>21</td>\n",
       "      <td>10</td>\n",
       "      <td>221</td>\n",
       "      <td>14</td>\n",
       "      <td>1426</td>\n",
       "      <td>2.0</td>\n",
       "    </tr>\n",
       "  </tbody>\n",
       "</table>\n",
       "</div>"
      ],
      "text/plain": [
       "   Monthly_Inhand_Salary  Amount_invested_monthly  Monthly_Balance  \\\n",
       "0                   4197                       55              392   \n",
       "\n",
       "   Delay_from_due_date  Changed_Credit_Limit  Credit_History_Age  \\\n",
       "0                   21                    10                 221   \n",
       "\n",
       "   Interest_Rate  Outstanding_Debt  Credit_Mix  \n",
       "0             14              1426         2.0  "
      ]
     },
     "execution_count": 110,
     "metadata": {},
     "output_type": "execute_result"
    }
   ],
   "source": [
    "mean_human[cat] = enc.transform(mean_human[cat])\n",
    "mean_human"
   ]
  },
  {
   "cell_type": "code",
   "execution_count": 111,
   "metadata": {},
   "outputs": [],
   "source": [
    "mean_human = mean_human[X_enc.columns]"
   ]
  },
  {
   "cell_type": "code",
   "execution_count": 112,
   "metadata": {},
   "outputs": [
    {
     "data": {
      "text/plain": [
       "(array([2]), array(['Standard'], dtype=object))"
      ]
     },
     "execution_count": 112,
     "metadata": {},
     "output_type": "execute_result"
    }
   ],
   "source": [
    "predict = final_model.predict(mean_human)\n",
    "predict, le.inverse_transform(predict)"
   ]
  },
  {
   "cell_type": "code",
   "execution_count": 113,
   "metadata": {},
   "outputs": [
    {
     "data": {
      "text/plain": [
       "(20000, 9)"
      ]
     },
     "execution_count": 113,
     "metadata": {},
     "output_type": "execute_result"
    }
   ],
   "source": [
    "X_test_enc      = X_test[df_final.columns[:-1]].copy()\n",
    "X_test_enc[cat] = enc.fit_transform(X_test_enc[cat])\n",
    "\n",
    "X_test_enc.shape"
   ]
  },
  {
   "cell_type": "code",
   "execution_count": 114,
   "metadata": {},
   "outputs": [
    {
     "data": {
      "text/plain": [
       "0    10830\n",
       "2     9170\n",
       "dtype: int64"
      ]
     },
     "execution_count": 114,
     "metadata": {},
     "output_type": "execute_result"
    }
   ],
   "source": [
    "y_test_pred = final_model.predict(X_test_enc)\n",
    "pd.value_counts(y_test_pred).sort_index()"
   ]
  },
  {
   "cell_type": "code",
   "execution_count": 115,
   "metadata": {},
   "outputs": [
    {
     "data": {
      "text/plain": [
       "array([10830,     0,  9170], dtype=int64)"
      ]
     },
     "execution_count": 115,
     "metadata": {},
     "output_type": "execute_result"
    }
   ],
   "source": [
    "np.bincount(y_test_pred)"
   ]
  },
  {
   "cell_type": "code",
   "execution_count": 116,
   "metadata": {},
   "outputs": [
    {
     "name": "stderr",
     "output_type": "stream",
     "text": [
      "100%|===================| 59936/60000 [03:40<00:00]        "
     ]
    },
    {
     "data": {
      "image/png": "[encoded data removed]",
      "text/plain": [
       "<Figure size 1150x660 with 3 Axes>"
      ]
     },
     "metadata": {},
     "output_type": "display_data"
    }
   ],
   "source": [
    "import shap\n",
    "\n",
    "# Create an explainer object\n",
    "explainer = shap.Explainer(final_model, X_test_enc)\n",
    "\n",
    "# Calculate SHAP values\n",
    "shap_values = explainer.shap_values(X_test_enc)\n",
    "\n",
    "# Plot SHAP summary plot\n",
    "shap.summary_plot(shap_values, X_test_enc)"
   ]
  },
  {
   "cell_type": "code",
   "execution_count": 117,
   "metadata": {},
   "outputs": [
    {
     "name": "stdout",
     "output_type": "stream",
     "text": [
      "Saving compressed model at: models/rf_final.pkl.gz\n"
     ]
    }
   ],
   "source": [
    "save_model_dir = 'models/rf_final.pkl.gz'\n",
    "print(\"Saving compressed model at: {}\".format(save_model_dir))\n",
    "\n",
    "# Save the model\n",
    "with gzip.open(save_model_dir, 'wb') as handle:\n",
    "    pickle.dump(final_model, handle, protocol=pickle.HIGHEST_PROTOCOL)"
   ]
  },
  {
   "cell_type": "code",
   "execution_count": 118,
   "metadata": {},
   "outputs": [
    {
     "name": "stdout",
     "output_type": "stream",
     "text": [
      "Saving model at: models/cs_le.pkl\n"
     ]
    }
   ],
   "source": [
    "save_model_dir = os.path.join('models/cs_le.pkl')\n",
    "print(\"Saving model at: {}\".format(save_model_dir))\n",
    "\n",
    "#save the model\n",
    "with open(save_model_dir, 'wb') as handle:\n",
    "    pickle.dump(le,\n",
    "                handle,\n",
    "                protocol=3)"
   ]
  },
  {
   "cell_type": "code",
   "execution_count": 119,
   "metadata": {},
   "outputs": [
    {
     "name": "stdout",
     "output_type": "stream",
     "text": [
      "Saving model at: models/cs_enc.pkl\n"
     ]
    }
   ],
   "source": [
    "save_model_dir = os.path.join('models/cs_enc.pkl')\n",
    "print(\"Saving model at: {}\".format(save_model_dir))\n",
    "\n",
    "#save the model\n",
    "with open(save_model_dir, 'wb') as handle:\n",
    "    pickle.dump(enc,\n",
    "                handle,\n",
    "                protocol=3)"
   ]
  },
  {
   "cell_type": "code",
   "execution_count": 120,
   "metadata": {},
   "outputs": [],
   "source": [
    "df_final.to_csv('data/df_final.csv')"
   ]
  },
  {
   "cell_type": "code",
   "execution_count": null,
   "metadata": {},
   "outputs": [],
   "source": []
  }
 ],
 "metadata": {
  "kernelspec": {
   "display_name": "streamlitenv",
   "language": "python",
   "name": "python3"
  },
  "language_info": {
   "codemirror_mode": {
    "name": "ipython",
    "version": 3
   },
   "file_extension": ".py",
   "mimetype": "text/x-python",
   "name": "python",
   "nbconvert_exporter": "python",
   "pygments_lexer": "ipython3",
   "version": "3.11.8"
  }
 },
 "nbformat": 4,
 "nbformat_minor": 2
}
